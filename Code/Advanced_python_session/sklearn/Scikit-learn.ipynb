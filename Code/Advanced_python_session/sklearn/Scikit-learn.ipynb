{
 "cells": [
  {
   "cell_type": "markdown",
   "metadata": {},
   "source": [
    "# Scikit-learn"
   ]
  },
  {
   "cell_type": "code",
   "execution_count": 2,
   "metadata": {},
   "outputs": [],
   "source": [
    "import csv\n",
    "import pandas as pd\n",
    "import sklearn"
   ]
  },
  {
   "cell_type": "code",
   "execution_count": 3,
   "metadata": {},
   "outputs": [
    {
     "name": "stderr",
     "output_type": "stream",
     "text": [
      "/home/db/bin/anaconda3/lib/python3.7/site-packages/IPython/core/interactiveshell.py:3058: DtypeWarning: Columns (19,47,55,112,123,124,125,128,129,130,133,139,140,141) have mixed types. Specify dtype option on import or set low_memory=False.\n",
      "  interactivity=interactivity, compiler=compiler, result=result)\n"
     ]
    },
    {
     "data": {
      "text/html": [
       "<div>\n",
       "<style scoped>\n",
       "    .dataframe tbody tr th:only-of-type {\n",
       "        vertical-align: middle;\n",
       "    }\n",
       "\n",
       "    .dataframe tbody tr th {\n",
       "        vertical-align: top;\n",
       "    }\n",
       "\n",
       "    .dataframe thead th {\n",
       "        text-align: right;\n",
       "    }\n",
       "</style>\n",
       "<table border=\"1\" class=\"dataframe\">\n",
       "  <thead>\n",
       "    <tr style=\"text-align: right;\">\n",
       "      <th></th>\n",
       "      <th>id</th>\n",
       "      <th>member_id</th>\n",
       "      <th>loan_amnt</th>\n",
       "      <th>funded_amnt</th>\n",
       "      <th>funded_amnt_inv</th>\n",
       "      <th>term</th>\n",
       "      <th>int_rate</th>\n",
       "      <th>installment</th>\n",
       "      <th>grade</th>\n",
       "      <th>sub_grade</th>\n",
       "      <th>...</th>\n",
       "      <th>hardship_payoff_balance_amount</th>\n",
       "      <th>hardship_last_payment_amount</th>\n",
       "      <th>disbursement_method</th>\n",
       "      <th>debt_settlement_flag</th>\n",
       "      <th>debt_settlement_flag_date</th>\n",
       "      <th>settlement_status</th>\n",
       "      <th>settlement_date</th>\n",
       "      <th>settlement_amount</th>\n",
       "      <th>settlement_percentage</th>\n",
       "      <th>settlement_term</th>\n",
       "    </tr>\n",
       "  </thead>\n",
       "  <tbody>\n",
       "    <tr>\n",
       "      <td>0</td>\n",
       "      <td>NaN</td>\n",
       "      <td>NaN</td>\n",
       "      <td>2500</td>\n",
       "      <td>2500</td>\n",
       "      <td>2500.0</td>\n",
       "      <td>36 months</td>\n",
       "      <td>13.56</td>\n",
       "      <td>84.92</td>\n",
       "      <td>C</td>\n",
       "      <td>C1</td>\n",
       "      <td>...</td>\n",
       "      <td>NaN</td>\n",
       "      <td>NaN</td>\n",
       "      <td>Cash</td>\n",
       "      <td>N</td>\n",
       "      <td>NaN</td>\n",
       "      <td>NaN</td>\n",
       "      <td>NaN</td>\n",
       "      <td>NaN</td>\n",
       "      <td>NaN</td>\n",
       "      <td>NaN</td>\n",
       "    </tr>\n",
       "    <tr>\n",
       "      <td>1</td>\n",
       "      <td>NaN</td>\n",
       "      <td>NaN</td>\n",
       "      <td>30000</td>\n",
       "      <td>30000</td>\n",
       "      <td>30000.0</td>\n",
       "      <td>60 months</td>\n",
       "      <td>18.94</td>\n",
       "      <td>777.23</td>\n",
       "      <td>D</td>\n",
       "      <td>D2</td>\n",
       "      <td>...</td>\n",
       "      <td>NaN</td>\n",
       "      <td>NaN</td>\n",
       "      <td>Cash</td>\n",
       "      <td>N</td>\n",
       "      <td>NaN</td>\n",
       "      <td>NaN</td>\n",
       "      <td>NaN</td>\n",
       "      <td>NaN</td>\n",
       "      <td>NaN</td>\n",
       "      <td>NaN</td>\n",
       "    </tr>\n",
       "    <tr>\n",
       "      <td>2</td>\n",
       "      <td>NaN</td>\n",
       "      <td>NaN</td>\n",
       "      <td>5000</td>\n",
       "      <td>5000</td>\n",
       "      <td>5000.0</td>\n",
       "      <td>36 months</td>\n",
       "      <td>17.97</td>\n",
       "      <td>180.69</td>\n",
       "      <td>D</td>\n",
       "      <td>D1</td>\n",
       "      <td>...</td>\n",
       "      <td>NaN</td>\n",
       "      <td>NaN</td>\n",
       "      <td>Cash</td>\n",
       "      <td>N</td>\n",
       "      <td>NaN</td>\n",
       "      <td>NaN</td>\n",
       "      <td>NaN</td>\n",
       "      <td>NaN</td>\n",
       "      <td>NaN</td>\n",
       "      <td>NaN</td>\n",
       "    </tr>\n",
       "  </tbody>\n",
       "</table>\n",
       "<p>3 rows × 145 columns</p>\n",
       "</div>"
      ],
      "text/plain": [
       "   id  member_id  loan_amnt  funded_amnt  funded_amnt_inv        term  \\\n",
       "0 NaN        NaN       2500         2500           2500.0   36 months   \n",
       "1 NaN        NaN      30000        30000          30000.0   60 months   \n",
       "2 NaN        NaN       5000         5000           5000.0   36 months   \n",
       "\n",
       "   int_rate  installment grade sub_grade  ... hardship_payoff_balance_amount  \\\n",
       "0     13.56        84.92     C        C1  ...                            NaN   \n",
       "1     18.94       777.23     D        D2  ...                            NaN   \n",
       "2     17.97       180.69     D        D1  ...                            NaN   \n",
       "\n",
       "  hardship_last_payment_amount disbursement_method  debt_settlement_flag  \\\n",
       "0                          NaN                Cash                     N   \n",
       "1                          NaN                Cash                     N   \n",
       "2                          NaN                Cash                     N   \n",
       "\n",
       "  debt_settlement_flag_date settlement_status settlement_date  \\\n",
       "0                       NaN               NaN             NaN   \n",
       "1                       NaN               NaN             NaN   \n",
       "2                       NaN               NaN             NaN   \n",
       "\n",
       "  settlement_amount  settlement_percentage settlement_term  \n",
       "0               NaN                    NaN             NaN  \n",
       "1               NaN                    NaN             NaN  \n",
       "2               NaN                    NaN             NaN  \n",
       "\n",
       "[3 rows x 145 columns]"
      ]
     },
     "execution_count": 3,
     "metadata": {},
     "output_type": "execute_result"
    }
   ],
   "source": [
    "df = pd.read_csv(\"../dataset/loan.csv.zip\", parse)\n",
    "df.head(3)\n"
   ]
  },
  {
   "cell_type": "code",
   "execution_count": 6,
   "metadata": {},
   "outputs": [
    {
     "data": {
      "text/plain": [
       "Index(['desc', 'next_pymnt_d', 'verification_status_joint',\n",
       "       'sec_app_earliest_cr_line', 'hardship_type', 'hardship_reason',\n",
       "       'hardship_status', 'hardship_start_date', 'hardship_end_date',\n",
       "       'payment_plan_start_date', 'hardship_loan_status',\n",
       "       'debt_settlement_flag_date', 'settlement_status', 'settlement_date'],\n",
       "      dtype='object')"
      ]
     },
     "execution_count": 6,
     "metadata": {},
     "output_type": "execute_result"
    }
   ],
   "source": [
    "df.columns[[19,47,55,112,123,124,125,128,129,130,133,139,140,141]]"
   ]
  },
  {
   "cell_type": "code",
   "execution_count": 7,
   "metadata": {},
   "outputs": [
    {
     "data": {
      "text/plain": [
       "id                       float64\n",
       "member_id                float64\n",
       "loan_amnt                  int64\n",
       "funded_amnt                int64\n",
       "funded_amnt_inv          float64\n",
       "                          ...   \n",
       "settlement_status         object\n",
       "settlement_date           object\n",
       "settlement_amount        float64\n",
       "settlement_percentage    float64\n",
       "settlement_term          float64\n",
       "Length: 145, dtype: object"
      ]
     },
     "execution_count": 7,
     "metadata": {},
     "output_type": "execute_result"
    }
   ],
   "source": [
    "df.dtypes"
   ]
  },
  {
   "cell_type": "code",
   "execution_count": 21,
   "metadata": {},
   "outputs": [
    {
     "name": "stdout",
     "output_type": "stream",
     "text": [
      "member_id                      887379\n",
      "loan_amnt                      887379\n",
      "funded_amnt                    887379\n",
      "funded_amnt_inv                887379\n",
      "term                           887379\n",
      "int_rate                       887379\n",
      "installment                    887379\n",
      "grade                          887379\n",
      "sub_grade                      887379\n",
      "emp_title                      835922\n",
      "emp_length                     887379\n",
      "home_ownership                 887379\n",
      "annual_inc                     887375\n",
      "verification_status            887379\n",
      "issue_d                        887379\n",
      "loan_status                    887379\n",
      "pymnt_plan                     887379\n",
      "url                            887379\n",
      "desc                           126029\n",
      "purpose                        887379\n",
      "title                          887228\n",
      "zip_code                       887379\n",
      "addr_state                     887379\n",
      "dti                            887379\n",
      "delinq_2yrs                    887350\n",
      "earliest_cr_line               887350\n",
      "inq_last_6mths                 887350\n",
      "mths_since_last_delinq         433067\n",
      "mths_since_last_record         137053\n",
      "open_acc                       887350\n",
      "                                ...  \n",
      "collection_recovery_fee        887379\n",
      "last_pymnt_d                   869720\n",
      "last_pymnt_amnt                887379\n",
      "next_pymnt_d                   634408\n",
      "last_credit_pull_d             887326\n",
      "collections_12_mths_ex_med     887234\n",
      "mths_since_last_major_derog    221703\n",
      "policy_code                    887379\n",
      "application_type               887379\n",
      "annual_inc_joint                  511\n",
      "dti_joint                         509\n",
      "verification_status_joint         511\n",
      "acc_now_delinq                 887350\n",
      "tot_coll_amt                   817103\n",
      "tot_cur_bal                    817103\n",
      "open_acc_6m                     21372\n",
      "open_il_6m                      21372\n",
      "open_il_12m                     21372\n",
      "open_il_24m                     21372\n",
      "mths_since_rcnt_il              20810\n",
      "total_bal_il                    21372\n",
      "il_util                         18617\n",
      "open_rv_12m                     21372\n",
      "open_rv_24m                     21372\n",
      "max_bal_bc                      21372\n",
      "all_util                        21372\n",
      "total_rev_hi_lim               817103\n",
      "inq_fi                          21372\n",
      "total_cu_tl                     21372\n",
      "inq_last_12m                    21372\n",
      "Length: 73, dtype: int64\n"
     ]
    }
   ],
   "source": [
    "print df.count()"
   ]
  },
  {
   "cell_type": "markdown",
   "metadata": {},
   "source": [
    "### selecting dimensions"
   ]
  },
  {
   "cell_type": "code",
   "execution_count": 22,
   "metadata": {},
   "outputs": [
    {
     "name": "stdout",
     "output_type": "stream",
     "text": [
      "['member_id', 'loan_amnt', 'funded_amnt', 'funded_amnt_inv', 'term', 'int_rate', 'installment', 'grade', 'sub_grade', 'emp_length', 'home_ownership', 'annual_inc', 'verification_status', 'issue_d', 'loan_status', 'pymnt_plan', 'url', 'purpose', 'zip_code', 'addr_state', 'dti', 'delinq_2yrs', 'earliest_cr_line', 'inq_last_6mths', 'open_acc', 'pub_rec', 'revol_bal', 'total_acc', 'initial_list_status', 'out_prncp', 'out_prncp_inv', 'total_pymnt', 'total_pymnt_inv', 'total_rec_prncp', 'total_rec_int', 'total_rec_late_fee', 'recoveries', 'collection_recovery_fee', 'last_pymnt_amnt', 'policy_code', 'application_type', 'acc_now_delinq']\n",
      "42\n"
     ]
    }
   ],
   "source": [
    "selected = []\n",
    "n = 887350\n",
    "for col, count in zip(df.columns, df.count()):\n",
    "    if count >= n:\n",
    "        selected.append(col)\n",
    "print selected\n",
    "print len(selected)\n",
    "data = df[selected]"
   ]
  },
  {
   "cell_type": "code",
   "execution_count": 23,
   "metadata": {},
   "outputs": [
    {
     "data": {
      "text/plain": [
       "Current                                                601779\n",
       "Fully Paid                                             207723\n",
       "Charged Off                                             45248\n",
       "Late (31-120 days)                                      11591\n",
       "Issued                                                   8460\n",
       "In Grace Period                                          6253\n",
       "Late (16-30 days)                                        2357\n",
       "Does not meet the credit policy. Status:Fully Paid       1988\n",
       "Default                                                  1219\n",
       "Does not meet the credit policy. Status:Charged Off       761\n",
       "Name: loan_status, dtype: int64"
      ]
     },
     "execution_count": 23,
     "metadata": {},
     "output_type": "execute_result"
    }
   ],
   "source": [
    "df.loan_status.value_counts()"
   ]
  },
  {
   "cell_type": "markdown",
   "metadata": {},
   "source": [
    "### select rows"
   ]
  },
  {
   "cell_type": "code",
   "execution_count": 24,
   "metadata": {
    "collapsed": true,
    "jupyter": {
     "outputs_hidden": true
    }
   },
   "outputs": [],
   "source": [
    "status = ['Fully Paid','Default', 'Charged Off', 'Does not meet the credit policy. Status:Charged Off']\n",
    "data = data.loc[data.loan_status.isin(status)]"
   ]
  },
  {
   "cell_type": "markdown",
   "metadata": {},
   "source": [
    "### cleaning and processing"
   ]
  },
  {
   "cell_type": "code",
   "execution_count": 25,
   "metadata": {},
   "outputs": [
    {
     "name": "stdout",
     "output_type": "stream",
     "text": [
      "Number of NaNs: 0\n",
      "Percentage of safe loans  : 81.4766148391 \n",
      "Percentage of risky loans : 18.5233851609 \n"
     ]
    }
   ],
   "source": [
    "data = data[selected]\n",
    "data = data.dropna(thresh=len(selected))\n",
    "print \"Number of NaNs: %d\" % (data.isnull().values.sum())\n",
    "\n",
    "data['label'] = data['loan_status'].apply(lambda x : +1 if x=='Fully Paid' else -1)\n",
    "default = data.loc[data['label'] == -1]\n",
    "paid = data.loc[data['label'] == 1]\n",
    "print \"Percentage of safe loans  : %s \" % (len(paid)* 100.0 / (len(default) + len(paid)))\n",
    "print \"Percentage of risky loans : %s \" % (len(default)* 100.0 / (len(default) + len(paid)))"
   ]
  },
  {
   "cell_type": "markdown",
   "metadata": {},
   "source": [
    "### selecting features to use in this baseline approach"
   ]
  },
  {
   "cell_type": "code",
   "execution_count": 26,
   "metadata": {
    "collapsed": true,
    "jupyter": {
     "outputs_hidden": true
    }
   },
   "outputs": [],
   "source": [
    "features = ['emp_length',                # number of years of employment\n",
    "            'home_ownership',            # home_ownership status: own, mortgage or rent\n",
    "            'dti',                       # debt to income ratio\n",
    "            'purpose',                   # the purpose of the loan\n",
    "            'term',                      # the term of the loan\n",
    "            'loan_amnt',                 # loan amount\n",
    "            'annual_inc',                # annual income           \n",
    "            'total_acc',                 # num accounts\n",
    "            'delinq_2yrs'                # num accounts\n",
    "           ]           "
   ]
  },
  {
   "cell_type": "markdown",
   "metadata": {},
   "source": [
    "### creating balanced datasets"
   ]
  },
  {
   "cell_type": "code",
   "execution_count": 27,
   "metadata": {
    "collapsed": true,
    "jupyter": {
     "outputs_hidden": true
    }
   },
   "outputs": [],
   "source": [
    "percentage = len(default)/float(len(paid))\n",
    "risky_loans = default\n",
    "safe_loans = paid.sample(frac=percentage)\n",
    "\n",
    "dataset_x = risky_loans[features].append(safe_loans[features])\n",
    "dataset_y = risky_loans.label.append(safe_loans.label)"
   ]
  },
  {
   "cell_type": "markdown",
   "metadata": {},
   "source": [
    "### encoding features"
   ]
  },
  {
   "cell_type": "code",
   "execution_count": 28,
   "metadata": {},
   "outputs": [
    {
     "name": "stdout",
     "output_type": "stream",
     "text": [
      "94450 94450\n"
     ]
    }
   ],
   "source": [
    "from sklearn import preprocessing\n",
    "\n",
    "le = preprocessing.LabelEncoder()\n",
    "le.fit(dataset_x.purpose.unique())\n",
    "dataset_x.purpose = le.transform(dataset_x.purpose)\n",
    "\n",
    "le2 = preprocessing.LabelEncoder()\n",
    "le2.fit(dataset_x.home_ownership.unique())\n",
    "dataset_x.home_ownership = le2.transform(dataset_x.home_ownership)\n",
    "\n",
    "dataset_x.emp_length = dataset_x.emp_length.apply(lambda x: x[:-6] if 'years' in x else '0')\n",
    "dataset_x.emp_length = dataset_x.emp_length.apply(lambda x: float(x[:-1]) if '+' in x else float(x))\n",
    "dataset_x.term = dataset_x.term.apply(lambda x: float(x.replace(\"months\",\"\")))\n",
    "\n",
    "print len(dataset_x), len(dataset_y)"
   ]
  },
  {
   "cell_type": "markdown",
   "metadata": {},
   "source": [
    "### training + cross-validation"
   ]
  },
  {
   "cell_type": "code",
   "execution_count": 29,
   "metadata": {},
   "outputs": [
    {
     "name": "stdout",
     "output_type": "stream",
     "text": [
      "{'train_accuracy': array([ 1.        ,  0.99998412,  1.        ]), 'score_time': array([ 7.81586194,  8.23215008,  8.20141602]), 'fit_time': array([ 44.10710502,  43.85120201,  44.11725187]), 'test_accuracy': array([ 0.57190954,  0.58763181,  0.59332317]), 'test_prec': array([ 0.56595968,  0.58312745,  0.59165211]), 'train_prec': array([ 1.,  1.,  1.])}\n"
     ]
    }
   ],
   "source": [
    "from sklearn.ensemble import RandomForestClassifier\n",
    "from sklearn.metrics import accuracy_score\n",
    "from sklearn.metrics import make_scorer\n",
    "from sklearn.model_selection import cross_validate\n",
    "\n",
    "clf = RandomForestClassifier(n_estimators=500)\n",
    "scoring = {'accuracy': make_scorer(accuracy_score),'prec': 'precision'}\n",
    "cv_results = cross_validate(clf.fit(dataset_x, dataset_y), dataset_x, dataset_y, scoring=scoring)\n",
    "\n",
    "#one versus all\n",
    "print cv_results"
   ]
  },
  {
   "cell_type": "markdown",
   "metadata": {},
   "source": [
    "### ROC curve and AUC"
   ]
  },
  {
   "cell_type": "code",
   "execution_count": 30,
   "metadata": {},
   "outputs": [
    {
     "name": "stdout",
     "output_type": "stream",
     "text": [
      "{0: 0.54250582822283944, 1: 0.57655656415128598, 2: 0.59913202230494333, 3: 0.60031466484535079, 4: 0.60420417954387295, 5: 0.602775775023359, 6: 0.602906115927903, 7: 0.60278413091346128}\n"
     ]
    }
   ],
   "source": [
    "# Receiver operating characteristic \n",
    "# TPR = true positive rate vs. FPR = false positive rate, at various threshold settings\n",
    "# Here FPR is better -> specificity = 1 - FPR \n",
    "\n",
    "from sklearn.model_selection import train_test_split\n",
    "from sklearn.model_selection import cross_val_score\n",
    "from sklearn.metrics import classification_report\n",
    "from sklearn.metrics import roc_curve, auc\n",
    "from sklearn.metrics import roc_auc_score\n",
    "fpr = dict()\n",
    "tpr = dict()\n",
    "roc_auc = dict()\n",
    "\n",
    "for i, n_estimators in enumerate([1, 10, 50, 100, 300, 500, 1000, 2000]):\n",
    "    clf = RandomForestClassifier(n_estimators)\n",
    "    X_train, X_test, y_train, y_test = train_test_split(dataset_x, dataset_y, test_size=0.2, random_state=42)\n",
    "    clf.fit(X_train, y_train)\n",
    "    y_predict = clf.predict(X_test)\n",
    "    fpr[i], tpr[i], _ = roc_curve(y_predict, y_test, pos_label=1)\n",
    "    roc_auc[i] = auc(fpr[i], tpr[i])\n",
    "    \n",
    "print roc_auc"
   ]
  },
  {
   "cell_type": "code",
   "execution_count": 34,
   "metadata": {},
   "outputs": [
    {
     "data": {
      "image/png": "[encoded data removed]",
      "text/plain": [
       "<matplotlib.figure.Figure at 0x140125a50>"
      ]
     },
     "metadata": {},
     "output_type": "display_data"
    }
   ],
   "source": [
    "import matplotlib.pyplot as plt\n",
    "plt.figure()\n",
    "lw = 2\n",
    "plt.plot(fpr[5], tpr[5], color='darkorange',\n",
    "         lw=lw, label='ROC curve (area = %0.2f)' % roc_auc[5])\n",
    "plt.plot([0, 1], [0, 1], color='navy', lw=lw, linestyle='--')\n",
    "plt.xlim([0.0, 1.0])\n",
    "plt.ylim([0.0, 1.05])\n",
    "plt.xlabel('False Positive Rate')\n",
    "plt.ylabel('True Positive Rate')\n",
    "plt.title('Receiver operating characteristic example')\n",
    "plt.legend(loc=\"lower right\")\n",
    "plt.show()"
   ]
  },
  {
   "cell_type": "code",
   "execution_count": null,
   "metadata": {
    "collapsed": true,
    "jupyter": {
     "outputs_hidden": true
    }
   },
   "outputs": [],
   "source": []
  }
 ],
 "metadata": {
  "kernelspec": {
   "display_name": "Python 3",
   "language": "python",
   "name": "python3"
  },
  "language_info": {
   "codemirror_mode": {
    "name": "ipython",
    "version": 3
   },
   "file_extension": ".py",
   "mimetype": "text/x-python",
   "name": "python",
   "nbconvert_exporter": "python",
   "pygments_lexer": "ipython3",
   "version": "3.7.4"
  }
 },
 "nbformat": 4,
 "nbformat_minor": 4
}
