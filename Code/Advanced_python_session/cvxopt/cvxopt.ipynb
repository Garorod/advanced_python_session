{
 "cells": [
  {
   "cell_type": "code",
   "execution_count": 1,
   "metadata": {},
   "outputs": [
    {
     "name": "stdout",
     "output_type": "stream",
     "text": [
      "cpu\n"
     ]
    }
   ],
   "source": [
    "import cvxpy as cp\n",
    "import numpy as np\n",
    "import torch\n",
    "from cvxpylayers.torch import CvxpyLayer\n",
    "\n",
    "device = torch.device(\"cuda:0\" if torch.cuda.is_available() else \"cpu\")\n",
    "print(device)\n"
   ]
  },
  {
   "cell_type": "code",
   "execution_count": 2,
   "metadata": {},
   "outputs": [],
   "source": [
    "np.random.seed(0)\n",
    "m = 1000\n",
    "n = 10\n",
    "k = 2\n",
    "A = np.random.rand(m, k).dot(np.random.rand(k, n))\n",
    "tmp = np.random.choice(range(m*n), int(0.2*m*n),replace=False)\n",
    "Anew = A.copy()\n",
    "Anew[tmp//n, tmp % n] = np.nan"
   ]
  },
  {
   "cell_type": "code",
   "execution_count": 3,
   "metadata": {},
   "outputs": [],
   "source": [
    "missing_list = np.transpose(np.argwhere(np.isnan(Anew)))"
   ]
  },
  {
   "cell_type": "code",
   "execution_count": 4,
   "metadata": {},
   "outputs": [],
   "source": [
    "mask = np.ones((m,n))\n",
    "mask[missing_list[0], missing_list[1]] = 0.0"
   ]
  },
  {
   "cell_type": "code",
   "execution_count": 5,
   "metadata": {},
   "outputs": [],
   "source": [
    "Y_init = np.random.rand(m, k)\n",
    "Y = torch.from_numpy(Y_init).cpu()\n",
    "\n",
    "MAX_ITERS = 50\n",
    "residual = np.zeros(MAX_ITERS)"
   ]
  },
  {
   "cell_type": "code",
   "execution_count": 6,
   "metadata": {},
   "outputs": [
    {
     "name": "stdout",
     "output_type": "stream",
     "text": [
      "Iteration 1, residual norm 0.2545643155505715\n",
      "Iteration 2, residual norm 0.07781867001255025\n",
      "Iteration 3, residual norm 0.06581232683592199\n",
      "Iteration 4, residual norm 0.0379420126700111\n",
      "Iteration 5, residual norm 0.02766304573871009\n",
      "Iteration 6, residual norm 0.022335675175930807\n",
      "Iteration 7, residual norm 0.017833099418742743\n",
      "Iteration 8, residual norm 0.014892972491910003\n",
      "Iteration 9, residual norm 0.012463756874989162\n",
      "Iteration 10, residual norm 0.010712462838441244\n",
      "Iteration 11, residual norm 0.009288183051974467\n",
      "Iteration 12, residual norm 0.008193859731171234\n",
      "Iteration 13, residual norm 0.0072865915844929\n",
      "Iteration 14, residual norm 0.006548948375814247\n",
      "Iteration 15, residual norm 0.005921811470202041\n",
      "Iteration 16, residual norm 0.005394115945272744\n",
      "Iteration 17, residual norm 0.00493680678899824\n",
      "Iteration 18, residual norm 0.004540843311986531\n",
      "Iteration 19, residual norm 0.004195755054699086\n",
      "Iteration 20, residual norm 0.0038884164044674877\n",
      "Iteration 21, residual norm 0.0036194927434818076\n",
      "Iteration 22, residual norm 0.0033762461133256434\n",
      "Iteration 23, residual norm 0.0031601948463323088\n",
      "Iteration 24, residual norm 0.002958691579287634\n",
      "Iteration 25, residual norm 0.002780655260886749\n",
      "Iteration 26, residual norm 0.0026138872782195477\n",
      "Iteration 27, residual norm 0.0024672065480084676\n",
      "Iteration 28, residual norm 0.002326902020904283\n",
      "Iteration 29, residual norm 0.0022030753536091347\n",
      "Iteration 30, residual norm 0.002084937010212388\n",
      "Iteration 31, residual norm 0.0019794422570530157\n",
      "Iteration 32, residual norm 0.0018762273632114464\n",
      "Iteration 33, residual norm 0.001785450596316066\n",
      "Iteration 34, residual norm 0.00169649901111043\n",
      "Iteration 35, residual norm 0.0016183364278003454\n",
      "Iteration 36, residual norm 0.00154139025591192\n",
      "Iteration 37, residual norm 0.0014740997090451921\n",
      "Iteration 38, residual norm 0.0014071748261038188\n",
      "Iteration 39, residual norm 0.0013491485709431425\n",
      "Iteration 40, residual norm 0.0012918305379602663\n",
      "Iteration 41, residual norm 0.0012421301352689678\n",
      "Iteration 42, residual norm 0.0011925497705791111\n",
      "Iteration 43, residual norm 0.0011501863213665715\n",
      "Iteration 44, residual norm 0.0011076682711099537\n",
      "Iteration 45, residual norm 0.0010713841233862627\n",
      "Iteration 46, residual norm 0.0010337975012375226\n",
      "Iteration 47, residual norm 0.0010018899797680355\n",
      "Iteration 48, residual norm 0.0009693752798460432\n",
      "Iteration 49, residual norm 0.0009408400902878609\n",
      "Iteration 50, residual norm 0.000910216476550802\n",
      "CPU times: user 1min 4s, sys: 4.44 s, total: 1min 9s\n",
      "Wall time: 48.6 s\n"
     ]
    }
   ],
   "source": [
    "%%time\n",
    "for iter_num in range(1, 1+MAX_ITERS):\n",
    "    if iter_num % 2 == 1:\n",
    "        Xsol = cp.Variable(shape=(k, n))\n",
    "        constraint = [Xsol >= 0]\n",
    "        Ysol = cp.Parameter(shape=(m,k))\n",
    "        Ysol.value = Y.cpu().numpy()\n",
    "        obj = cp.Minimize(cp.norm( cp.multiply(mask, Anew - Ysol*Xsol), 'fro'))\n",
    "        prob = cp.Problem(obj, constraint)        \n",
    "        cvxpylayer = CvxpyLayer(prob, parameters=[Ysol], variables=[Xsol])\n",
    "        X, = cvxpylayer(Y)\n",
    "    else:\n",
    "        Ysol = cp.Variable(shape=(m, k))\n",
    "        constraint = [Ysol >= 0]\n",
    "        Xsol = cp.Parameter(shape=(k,n))\n",
    "        Xsol.value = X.cpu().numpy()\n",
    "        obj = cp.Minimize(cp.norm( cp.multiply(mask, Anew - Ysol*Xsol), 'fro'))\n",
    "        prob = cp.Problem(obj, constraint) \n",
    "        cvxpylayer = CvxpyLayer(prob, parameters=[Xsol], variables=[Ysol])\n",
    "        Y, = cvxpylayer(X)\n",
    "    rmse = np.sqrt(np.mean((np.dot(Y.cpu().numpy(), X.cpu().numpy()) -A)**2))\n",
    "    print('Iteration {}, residual norm {}'.format(iter_num, rmse))\n",
    "    residual[iter_num-1] = rmse"
   ]
  },
  {
   "cell_type": "code",
   "execution_count": 7,
   "metadata": {},
   "outputs": [
    {
     "data": {
      "text/plain": [
       "<Figure size 640x480 with 1 Axes>"
      ]
     },
     "metadata": {},
     "output_type": "display_data"
    }
   ],
   "source": [
    "import matplotlib.pyplot as plt\n",
    "plt.plot(np.log(residual))\n",
    "plt.show()"
   ]
  },
  {
   "cell_type": "code",
   "execution_count": 8,
   "metadata": {},
   "outputs": [
    {
     "ename": "SyntaxError",
     "evalue": "invalid syntax (<ipython-input-8-19191d4b0c60>, line 1)",
     "output_type": "error",
     "traceback": [
      "\u001b[0;36m  File \u001b[0;32m\"<ipython-input-8-19191d4b0c60>\"\u001b[0;36m, line \u001b[0;32m1\u001b[0m\n\u001b[0;31m    https://www.cvxpy.org/tutorial/advanced/index.html\u001b[0m\n\u001b[0m           ^\u001b[0m\n\u001b[0;31mSyntaxError\u001b[0m\u001b[0;31m:\u001b[0m invalid syntax\n"
     ]
    }
   ],
   "source": [
    "https://www.cvxpy.org/tutorial/advanced/index.html\n",
    "    https://www.cvxpy.org/examples/applications/nonneg_matrix_fact.html"
   ]
  },
  {
   "cell_type": "code",
   "execution_count": null,
   "metadata": {},
   "outputs": [],
   "source": [
    "%%time\n",
    "Y_init = np.random.rand(m, k)\n",
    "Y = Y_init\n",
    "for iter_num in range(1, 1+MAX_ITERS):\n",
    "    if iter_num % 2 == 1:\n",
    "        X = cp.Variable(shape=(k, n))\n",
    "        constraint = [X >= 0]\n",
    "        obj = cp.Minimize(cp.norm( cp.multiply(mask, Anew - Y*X), 'fro'))\n",
    "        prob = cp.Problem(obj, constraint)\n",
    "        prob.solve(solver=cp.SCS, max_iters=10000)\n",
    "        X = X.value\n",
    "    else:\n",
    "        Y = cp.Variable(shape=(m, k))\n",
    "        constraint = [Y >= 0]\n",
    "        obj = cp.Minimize(cp.norm( cp.multiply(mask, Anew - Y*X), 'fro'))\n",
    "        prob = cp.Problem(obj, constraint)\n",
    "        prob.solve(solver=cp.SCS, max_iters=10000)\n",
    "        Y = Y.value\n",
    "    rmse = np.sqrt(np.mean((A-np.dot(Y,X))**2))\n",
    "    print('Iteration {}, residual norm {}'.format(iter_num, rmse))\n",
    "    residual[iter_num-1] = rmse"
   ]
  },
  {
   "cell_type": "code",
   "execution_count": null,
   "metadata": {},
   "outputs": [],
   "source": [
    "np.sqrt(np.mean((A-np.dot(Y,X))**2))\n"
   ]
  },
  {
   "cell_type": "code",
   "execution_count": null,
   "metadata": {},
   "outputs": [],
   "source": [
    "X.shape"
   ]
  },
  {
   "cell_type": "code",
   "execution_count": null,
   "metadata": {},
   "outputs": [],
   "source": []
  }
 ],
 "metadata": {
  "kernelspec": {
   "display_name": "Python 3",
   "language": "python",
   "name": "python3"
  },
  "language_info": {
   "codemirror_mode": {
    "name": "ipython",
    "version": 3
   },
   "file_extension": ".py",
   "mimetype": "text/x-python",
   "name": "python",
   "nbconvert_exporter": "python",
   "pygments_lexer": "ipython3",
   "version": "3.7.4"
  }
 },
 "nbformat": 4,
 "nbformat_minor": 4
}
