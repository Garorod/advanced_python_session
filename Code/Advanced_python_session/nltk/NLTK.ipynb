{
 "cells": [
  {
   "cell_type": "markdown",
   "metadata": {},
   "source": [
    "# NLTK (Natural Language Toolkit)"
   ]
  },
  {
   "cell_type": "code",
   "execution_count": 1,
   "metadata": {},
   "outputs": [],
   "source": [
    "import csv\n",
    "import nltk\n",
    "import pandas as pd\n",
    "# nltk.download()"
   ]
  },
  {
   "cell_type": "markdown",
   "metadata": {},
   "source": [
    "## Counting words"
   ]
  },
  {
   "cell_type": "code",
   "execution_count": 5,
   "metadata": {},
   "outputs": [
    {
     "name": "stdout",
     "output_type": "stream",
     "text": [
      "[9, 14, 5, 11, 8, 11, 20, 11, 12, 10, 11, 11, 10, 9, 8, 16, 9, 9, 11, 10, 12, 6, 9, 10, 8]\n",
      "['10', 'Dow', 'Jones', 'Stocks', 'to', 'Buy', 'Before', 'They', 'Rally']\n"
     ]
    }
   ],
   "source": [
    "headlines = []\n",
    "word_count = []\n",
    "with open('../dataset/headlines.csv', 'r') as fo:\n",
    "    reader = csv.reader(fo)\n",
    "    for title, source in reader: \n",
    "        tokens = nltk.word_tokenize(title)\n",
    "        headlines.append(tokens)\n",
    "        word_count.append(len(tokens))\n",
    "print (word_count)\n",
    "print (headlines[0])"
   ]
  },
  {
   "cell_type": "code",
   "execution_count": 7,
   "metadata": {},
   "outputs": [
    {
     "data": {
      "text/plain": [
       "Text(0.5, 0, 'number of words')"
      ]
     },
     "execution_count": 7,
     "metadata": {},
     "output_type": "execute_result"
    },
    {
     "data": {
      "image/png": "[encoded data removed]",
      "text/plain": [
       "<Figure size 432x288 with 1 Axes>"
      ]
     },
     "metadata": {
      "needs_background": "light"
     },
     "output_type": "display_data"
    }
   ],
   "source": [
    "%matplotlib inline\n",
    "import matplotlib.pyplot as plt\n",
    "\n",
    "stats = pd.DataFrame(word_count)\n",
    "g = stats.hist(bins=20)\n",
    "plt.title(\"Word counts\")\n",
    "plt.ylabel(\"number of headlines\")\n",
    "plt.xlabel(\"number of words\")\n"
   ]
  },
  {
   "cell_type": "markdown",
   "metadata": {},
   "source": [
    "## Removing stopwords"
   ]
  },
  {
   "cell_type": "code",
   "execution_count": 8,
   "metadata": {},
   "outputs": [
    {
     "data": {
      "text/plain": [
       "Text(0.5, 0, 'number of words')"
      ]
     },
     "execution_count": 8,
     "metadata": {},
     "output_type": "execute_result"
    },
    {
     "data": {
      "image/png": "[encoded data removed]",
      "text/plain": [
       "<Figure size 432x288 with 1 Axes>"
      ]
     },
     "metadata": {
      "needs_background": "light"
     },
     "output_type": "display_data"
    }
   ],
   "source": [
    "from nltk.corpus import stopwords\n",
    "\n",
    "for i, t in enumerate(headlines):\n",
    "    headlines[i] = [w.lower() for w in t if not w in stopwords.words(\"english\") and w.isalpha()]\n",
    "    word_count[i] = len(headlines[i])\n",
    "stats = pd.DataFrame(word_count)\n",
    "\n",
    "stats.hist(bins=20)\n",
    "plt.title(\"Word counts without stopwords\")\n",
    "plt.ylabel(\"number of headlines\")\n",
    "plt.xlabel(\"number of words\")"
   ]
  },
  {
   "cell_type": "markdown",
   "metadata": {},
   "source": [
    "## Creating a dictionary\n",
    "\n",
    "        "
   ]
  },
  {
   "cell_type": "code",
   "execution_count": 9,
   "metadata": {},
   "outputs": [],
   "source": [
    "from collections import defaultdict\n",
    "dictionary = defaultdict(dict)\n",
    "\n",
    "for i, t in enumerate(headlines):\n",
    "    for w in t:\n",
    "        if dictionary.get(w, 0):\n",
    "            dictionary[w]['count']  += 1\n",
    "            dictionary[w]['headlines'].append(i)\n",
    "        else:\n",
    "            dictionary[w] = {'count': 1, 'headlines': [i]}"
   ]
  },
  {
   "cell_type": "code",
   "execution_count": 10,
   "metadata": {},
   "outputs": [
    {
     "name": "stdout",
     "output_type": "stream",
     "text": [
      "         count                          headlines\n",
      "stock        9  [1, 6, 9, 11, 15, 17, 18, 19, 23]\n",
      "earnings     3                        [7, 21, 22]\n",
      "is           3                        [9, 13, 20]\n",
      "the          3                         [1, 2, 16]\n",
      "rise         3                       [17, 19, 23]\n",
      "...        ...                                ...\n",
      "bank         1                                [6]\n",
      "street       1                                [6]\n",
      "wall         1                                [6]\n",
      "second       1                                [6]\n",
      "etfs         1                               [24]\n",
      "\n",
      "[147 rows x 2 columns]\n"
     ]
    }
   ],
   "source": [
    "words = pd.DataFrame(dictionary).transpose()\n",
    "print (words.sort_values('count', ascending=False))"
   ]
  },
  {
   "cell_type": "markdown",
   "metadata": {},
   "source": [
    "## Tagging words"
   ]
  },
  {
   "cell_type": "code",
   "execution_count": 11,
   "metadata": {},
   "outputs": [],
   "source": [
    "nouns = []\n",
    "words['tag'] = \"\"\n",
    "for title in headlines:\n",
    "    pos = nltk.pos_tag(title)\n",
    "    for w, tag in pos:\n",
    "        if tag in ('NNS', 'NN', 'NNP', 'NNPS'):\n",
    "            words.loc[w]['tag'] = 'noun'\n",
    "        if tag in ('JJ', 'JJS'):\n",
    "            words.loc[w]['tag'] = 'adjective'\n",
    "        if tag in ('VBP', 'VB', 'VBZ', 'VBD', 'VBG'):\n",
    "            words.loc[w]['tag'] = 'verb'\n",
    "        if tag in ('IN'):\n",
    "            words.loc[w]['tag'] = 'prep'\n",
    "        if tag in ('RP', 'RBR', 'RB', 'RBS', 'WRB'):\n",
    "            words.loc[w]['tag'] = 'adv' \n",
    "        if tag in ('FW'):\n",
    "            words.loc[w]['tag'] = 'foreign'\n",
    "        if tag in ('MD'):\n",
    "            words.loc[w]['tag'] = 'modal'\n"
   ]
  },
  {
   "cell_type": "code",
   "execution_count": 12,
   "metadata": {},
   "outputs": [
    {
     "name": "stdout",
     "output_type": "stream",
     "text": [
      "       count headlines        tag\n",
      "dow        1       [0]       noun\n",
      "jones      1       [0]       noun\n",
      "stocks     2   [0, 24]       noun\n",
      "buy        1       [0]       verb\n",
      "before     1       [0]       prep\n",
      "...      ...       ...        ...\n",
      "forget     1      [24]       verb\n",
      "fang       1      [24]  adjective\n",
      "bet        1      [24]       verb\n",
      "wang       1      [24]  adjective\n",
      "etfs       1      [24]       noun\n",
      "\n",
      "[147 rows x 3 columns]\n"
     ]
    }
   ],
   "source": [
    "print (words)"
   ]
  },
  {
   "cell_type": "code",
   "execution_count": 14,
   "metadata": {},
   "outputs": [
    {
     "name": "stdout",
     "output_type": "stream",
     "text": [
      "AxesSubplot(0.125,0.125;0.775x0.755)\n"
     ]
    },
    {
     "data": {
      "image/png": "[encoded data removed]",
      "text/plain": [
       "<Figure size 432x288 with 1 Axes>"
      ]
     },
     "metadata": {
      "needs_background": "light"
     },
     "output_type": "display_data"
    }
   ],
   "source": [
    "print (words.groupby('tag').count()['count'].plot.bar())"
   ]
  },
  {
   "cell_type": "code",
   "execution_count": null,
   "metadata": {},
   "outputs": [],
   "source": []
  }
 ],
 "metadata": {
  "kernelspec": {
   "display_name": "Python 3",
   "language": "python",
   "name": "python3"
  },
  "language_info": {
   "codemirror_mode": {
    "name": "ipython",
    "version": 3
   },
   "file_extension": ".py",
   "mimetype": "text/x-python",
   "name": "python",
   "nbconvert_exporter": "python",
   "pygments_lexer": "ipython3",
   "version": "3.7.4"
  }
 },
 "nbformat": 4,
 "nbformat_minor": 4
}
