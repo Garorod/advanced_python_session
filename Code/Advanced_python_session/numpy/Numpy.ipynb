{
 "cells": [
  {
   "cell_type": "markdown",
   "metadata": {},
   "source": [
    "# Numpy"
   ]
  },
  {
   "cell_type": "code",
   "execution_count": 5,
   "metadata": {},
   "outputs": [],
   "source": [
    "import numpy as np\n",
    "import pprint"
   ]
  },
  {
   "cell_type": "markdown",
   "metadata": {},
   "source": [
    "## Reading market data from Google"
   ]
  },
  {
   "cell_type": "code",
   "execution_count": 2,
   "metadata": {},
   "outputs": [],
   "source": [
    "markets = {}\n",
    "values = []\n",
    "\n",
    "with open(\"markets.csv\", \"r\") as file:\n",
    "    for l in file.readlines():\n",
    "        name, url, v, change_perc = l.split(\";\")\n",
    "        markets[name] = url\n",
    "        v = v.replace(\",\", \"\")\n",
    "        change_perc = change_perc.replace(\"%\", \"\")\n",
    "        vals = [float(v), float(change_perc)]\n",
    "        values.append(vals)"
   ]
  },
  {
   "cell_type": "code",
   "execution_count": 6,
   "metadata": {},
   "outputs": [
    {
     "name": "stdout",
     "output_type": "stream",
     "text": [
      "[[67.87, 3.08],\n",
      " [25733.6, -0.34],\n",
      " [1202.9, 0.24],\n",
      " [2861.82, -0.04],\n",
      " [7574.24, 0.11],\n",
      " [6360.59, -2.01],\n",
      " [110.5, 0.31],\n",
      " [7889.1, 0.38],\n",
      " [2.82, -0.74],\n",
      " [1.29, 0.12],\n",
      " [22362.55, 0.64],\n",
      " [12.06, -6.22],\n",
      " [1721.69, 0.21],\n",
      " [14.74, -0.18],\n",
      " [1.16, 0.27]]\n",
      "{'10-Yr Bond': 'https://finance.yahoo.com/world-indices/quote/^TNX?p=^TNX',\n",
      " 'BTC-USD': 'https://finance.yahoo.com/world-indices/quote/BTC-USD?p=BTC-USD',\n",
      " 'Crude Oil': 'https://finance.yahoo.com/world-indices/quote/CL=F?p=CL=F',\n",
      " 'Dow 30': 'https://finance.yahoo.com/world-indices/quote/^DJI?p=^DJI',\n",
      " 'EUR/USD': 'https://finance.yahoo.com/world-indices/quote/EURUSD=X?p=EURUSD=X',\n",
      " 'FTSE 100': 'https://finance.yahoo.com/world-indices/quote/^FTSE?p=^FTSE',\n",
      " 'GBP/USD': 'https://finance.yahoo.com/world-indices/quote/GBPUSD=X?p=GBPUSD=X',\n",
      " 'Gold': 'https://finance.yahoo.com/world-indices/quote/GC=F?p=GC=F',\n",
      " 'Nasdaq': 'https://finance.yahoo.com/world-indices/quote/^IXIC?p=^IXIC',\n",
      " 'Nikkei 225': 'https://finance.yahoo.com/world-indices/quote/^N225?p=^N225',\n",
      " 'Russell 2000': 'https://finance.yahoo.com/world-indices/quote/^RUT?p=^RUT',\n",
      " 'S&P 500': 'https://finance.yahoo.com/world-indices/quote/^GSPC?p=^GSPC',\n",
      " 'Silver': 'https://finance.yahoo.com/world-indices/quote/SI=F?p=SI=F',\n",
      " 'USD/JPY': 'https://finance.yahoo.com/world-indices/quote/JPY=X?p=JPY=X',\n",
      " 'Vix': 'https://finance.yahoo.com/world-indices/quote/^VIX?p=^VIX'}\n"
     ]
    }
   ],
   "source": [
    "# we have a lists and a dictionary\n",
    "pprint.pprint (values)\n",
    "pprint.pprint (markets)"
   ]
  },
  {
   "cell_type": "markdown",
   "metadata": {},
   "source": [
    "## Converting to numpy array"
   ]
  },
  {
   "cell_type": "code",
   "execution_count": 7,
   "metadata": {},
   "outputs": [
    {
     "name": "stdout",
     "output_type": "stream",
     "text": [
      "[[ 6.787000e+01  3.080000e+00]\n",
      " [ 2.573360e+04 -3.400000e-01]\n",
      " [ 1.202900e+03  2.400000e-01]\n",
      " [ 2.861820e+03 -4.000000e-02]\n",
      " [ 7.574240e+03  1.100000e-01]\n",
      " [ 6.360590e+03 -2.010000e+00]\n",
      " [ 1.105000e+02  3.100000e-01]\n",
      " [ 7.889100e+03  3.800000e-01]\n",
      " [ 2.820000e+00 -7.400000e-01]\n",
      " [ 1.290000e+00  1.200000e-01]\n",
      " [ 2.236255e+04  6.400000e-01]\n",
      " [ 1.206000e+01 -6.220000e+00]\n",
      " [ 1.721690e+03  2.100000e-01]\n",
      " [ 1.474000e+01 -1.800000e-01]\n",
      " [ 1.160000e+00  2.700000e-01]]\n",
      "number of elements: 30\n"
     ]
    }
   ],
   "source": [
    "# we have a matrix of values now\n",
    "array = np.array(values)\n",
    "print(array)\n",
    "print(\"number of elements: %d\" % array.size)"
   ]
  },
  {
   "cell_type": "markdown",
   "metadata": {},
   "source": [
    "## Recover yesterday's price"
   ]
  },
  {
   "cell_type": "code",
   "execution_count": 8,
   "metadata": {},
   "outputs": [
    {
     "name": "stdout",
     "output_type": "stream",
     "text": [
      "67.87 70.95\n"
     ]
    }
   ],
   "source": [
    "# without matrices we need to do it using a loop or accesing each element\n",
    "price = array[0,0]\n",
    "delta = array[0,1]\n",
    "price_yesterday = price + delta\n",
    "print(price, price_yesterday)"
   ]
  },
  {
   "cell_type": "markdown",
   "metadata": {},
   "source": [
    "Yesterday's prices"
   ]
  },
  {
   "cell_type": "code",
   "execution_count": 9,
   "metadata": {},
   "outputs": [
    {
     "name": "stdout",
     "output_type": "stream",
     "text": [
      "[7.095000e+01 2.573326e+04 1.203140e+03 2.861780e+03 7.574350e+03\n",
      " 6.358580e+03 1.108100e+02 7.889480e+03 2.080000e+00 1.410000e+00\n",
      " 2.236319e+04 5.840000e+00 1.721900e+03 1.456000e+01 1.430000e+00]\n"
     ]
    }
   ],
   "source": [
    "#using matrix sum\n",
    "yesterday = array[:, 0] + array[:, 1]\n",
    "print(yesterday)"
   ]
  },
  {
   "cell_type": "code",
   "execution_count": 10,
   "metadata": {},
   "outputs": [
    {
     "name": "stdout",
     "output_type": "stream",
     "text": [
      "[[6.787000e+01 7.095000e+01]\n",
      " [2.573360e+04 2.573326e+04]\n",
      " [1.202900e+03 1.203140e+03]\n",
      " [2.861820e+03 2.861780e+03]\n",
      " [7.574240e+03 7.574350e+03]\n",
      " [6.360590e+03 6.358580e+03]\n",
      " [1.105000e+02 1.108100e+02]\n",
      " [7.889100e+03 7.889480e+03]\n",
      " [2.820000e+00 2.080000e+00]\n",
      " [1.290000e+00 1.410000e+00]\n",
      " [2.236255e+04 2.236319e+04]\n",
      " [1.206000e+01 5.840000e+00]\n",
      " [1.721690e+03 1.721900e+03]\n",
      " [1.474000e+01 1.456000e+01]\n",
      " [1.160000e+00 1.430000e+00]]\n"
     ]
    }
   ],
   "source": [
    "#using accumulative sum\n",
    "period = np.cumsum(array, 1)[:, 0:2]\n",
    "print(period)"
   ]
  },
  {
   "cell_type": "markdown",
   "metadata": {},
   "source": [
    "### Normalizing data"
   ]
  },
  {
   "cell_type": "code",
   "execution_count": 11,
   "metadata": {},
   "outputs": [
    {
     "name": "stdout",
     "output_type": "stream",
     "text": [
      "[[1.31348526e-03 1.37309237e-03]\n",
      " [4.98021280e-01 4.98014700e-01]\n",
      " [2.32796732e-02 2.32843179e-02]\n",
      " [5.53846822e-02 5.53839081e-02]\n",
      " [1.46583949e-01 1.46586077e-01]\n",
      " [1.23096231e-01 1.23057332e-01]\n",
      " [2.13850186e-03 2.14450127e-03]\n",
      " [1.52677421e-01 1.52684775e-01]\n",
      " [5.45753415e-05 4.02541526e-05]\n",
      " [2.49653158e-05 2.72876708e-05]\n",
      " [4.32781491e-01 4.32793877e-01]\n",
      " [2.33396673e-04 1.13021275e-04]\n",
      " [3.33197942e-02 3.33238584e-02]\n",
      " [2.85262601e-04 2.81779068e-04]\n",
      " [2.24494313e-05 2.76747299e-05]]\n"
     ]
    }
   ],
   "source": [
    "print(period / np.linalg.norm(period))"
   ]
  },
  {
   "cell_type": "markdown",
   "metadata": {},
   "source": [
    "## SNAP historical data"
   ]
  },
  {
   "cell_type": "code",
   "execution_count": 21,
   "metadata": {},
   "outputs": [
    {
     "name": "stdout",
     "output_type": "stream",
     "text": [
      "[['11.80' '11.86' '11.57' '11.73' '11.73' '13977800']\n",
      " ['12.16' '12.17' '11.63' '11.89' '11.89' '22444600']\n",
      " ['12.30' '12.58' '12.10' '12.17' '12.17' '14652900']\n",
      " ['12.27' '12.30' '12.11' '12.18' '12.18' '13643600']\n",
      " ['12.65' '12.73' '12.31' '12.34' '12.34' '13042700']\n",
      " ['12.24' '12.77' '12.24' '12.57' '12.57' '15724400']\n",
      " ['12.14' '12.50' '12.09' '12.31' '12.31' '15883900']\n",
      " ['12.15' '12.67' '12.07' '12.31' '12.31' '24290700']\n",
      " ['12.83' '12.84' '12.04' '12.23' '12.23' '61183600']\n",
      " ['13.01' '13.37' '12.78' '13.12' '13.12' '50202000']\n",
      " ['12.73' '13.13' '12.71' '13.05' '13.05' '17656600']\n",
      " ['12.71' '13.01' '12.66' '12.73' '12.73' '11512900']\n",
      " ['12.31' '12.75' '12.18' '12.70' '12.70' '11731900']\n",
      " ['12.55' '12.61' '12.20' '12.38' '12.38' '11228000']\n",
      " ['12.26' '12.57' '12.15' '12.50' '12.50' '14874500']\n",
      " ['12.74' '12.75' '12.00' '12.27' '12.27' '27156900']\n",
      " ['13.14' '13.18' '12.52' '12.83' '12.83' '28282700']\n",
      " ['13.07' '13.40' '12.77' '13.37' '13.37' '20037300']\n",
      " ['13.32' '13.44' '13.16' '13.39' '13.39' '16509100']\n",
      " ['13.45' '13.45' '12.96' '13.14' '13.14' '15870300']\n",
      " ['13.20' '13.41' '13.11' '13.39' '13.39' '8894500']\n",
      " ['13.45' '13.46' '13.21' '13.27' '13.27' '8760900']\n",
      " ['13.30' '13.61' '13.29' '13.43' '13.43' '13457800']\n",
      " ['13.40' '13.50' '13.17' '13.35' '13.35' '10726500']\n",
      " ['12.95' '13.54' '12.91' '13.42' '13.42' '16781300']\n",
      " ['13.25' '13.48' '12.90' '13.07' '13.07' '18175900']\n",
      " ['13.60' '13.69' '13.30' '13.36' '13.36' '12215800']\n",
      " ['13.43' '13.66' '13.41' '13.65' '13.65' '11784000']\n",
      " ['13.10' '13.42' '13.05' '13.40' '13.40' '10444600']\n",
      " ['13.73' '13.76' '13.25' '13.31' '13.31' '14821200']\n",
      " ['13.66' '14.14' '13.24' '13.65' '13.65' '28755400']\n",
      " ['13.17' '13.67' '13.10' '13.53' '13.53' '14925100']\n",
      " ['13.13' '13.22' '12.85' '13.21' '13.21' '14734700']\n",
      " ['13.15' '13.23' '12.91' '13.15' '13.15' '8219500']\n",
      " ['13.05' '13.23' '13.00' '13.15' '13.15' '10283800']\n",
      " ['13.41' '13.57' '13.09' '13.09' '13.09' '13972300']\n",
      " ['12.80' '13.41' '12.80' '13.40' '13.40' '18033100']\n",
      " ['13.04' '13.54' '12.81' '12.82' '12.82' '21567100']\n",
      " ['13.11' '13.22' '12.93' '13.00' '13.00' '12985400']\n",
      " ['13.01' '13.20' '12.90' '13.10' '13.10' '12363100']\n",
      " ['13.25' '13.30' '12.94' '13.20' '13.20' '13551700']\n",
      " ['12.75' '13.42' '12.71' '13.24' '13.24' '25279400']\n",
      " ['12.85' '13.09' '12.69' '12.80' '12.80' '32770600']\n",
      " ['13.61' '13.61' '12.66' '13.31' '13.31' '59696100']\n",
      " ['14.04' '14.47' '13.68' '14.05' '14.05' '34045600']\n",
      " ['13.72' '14.17' '13.72' '14.02' '14.02' '27423200']\n",
      " ['13.71' '13.99' '13.63' '13.87' '13.87' '30680700']\n",
      " ['13.56' '14.06' '13.53' '13.62' '13.62' '34414400']\n",
      " ['13.21' '13.95' '13.14' '13.42' '13.42' '38903700']\n",
      " ['13.11' '13.24' '12.92' '13.17' '13.17' '19680200']\n",
      " ['12.56' '13.35' '12.42' '13.08' '13.08' '34598300']\n",
      " ['13.03' '13.05' '12.37' '12.73' '12.73' '38066400']\n",
      " ['13.33' '13.65' '12.90' '13.13' '13.13' '49269000']\n",
      " ['12.41' '12.98' '12.30' '12.93' '12.93' '47019000']\n",
      " ['11.81' '12.40' '11.70' '12.32' '12.32' '50420300']\n",
      " ['11.71' '11.96' '11.21' '11.63' '11.63' '46463200']\n",
      " ['11.17' '11.79' '11.11' '11.39' '11.39' '62892100']\n",
      " ['10.57' '11.15' '10.55' '10.97' '10.97' '28700100']\n",
      " ['10.68' '10.70' '10.52' '10.55' '10.55' '11264700']\n",
      " ['10.66' '10.72' '10.61' '10.71' '10.71' '10501700']\n",
      " ['10.63' '10.68' '10.51' '10.60' '10.60' '13753400']\n",
      " ['10.68' '10.73' '10.56' '10.65' '10.65' '17000000']\n",
      " ['10.79' '10.83' '10.70' '10.74' '10.74' '13562200']\n",
      " ['10.75' '11.02' '10.71' '10.71' '10.71' '20462300']\n",
      " ['10.56' '10.86' '10.52' '10.58' '10.58' '18448400']\n",
      " ['10.65' '10.87' '10.50' '10.57' '10.57' '26982900']\n",
      " ['10.60' '10.75' '10.55' '10.58' '10.58' '19836000']\n",
      " ['10.95' '10.96' '10.51' '10.65' '10.65' '29277900']\n",
      " ['11.00' '11.05' '10.85' '10.98' '10.98' '19105800']\n",
      " ['11.00' '11.05' '10.85' '11.04' '11.04' '16929900']\n",
      " ['11.01' '11.18' '10.93' '11.01' '11.01' '19069100']\n",
      " ['10.98' '11.18' '10.91' '11.01' '11.01' '19856500']\n",
      " ['10.95' '11.43' '10.75' '10.97' '10.97' '35536400']\n",
      " ['10.76' '10.90' '10.61' '10.74' '10.74' '24743800']\n",
      " ['10.86' '10.93' '10.57' '10.79' '10.79' '39865000']\n",
      " ['11.11' '11.30' '10.51' '10.97' '10.97' '67507000']\n",
      " ['11.30' '11.70' '10.96' '11.03' '11.03' '159209400']\n",
      " ['14.34' '14.55' '13.75' '14.13' '14.13' '50003900']\n",
      " ['14.36' '14.44' '14.09' '14.33' '14.33' '21573800']\n",
      " ['14.75' '14.82' '14.16' '14.23' '14.23' '21763100']\n",
      " ['14.88' '15.14' '14.48' '14.70' '14.70' '22736800']\n",
      " ['15.62' '15.67' '14.16' '14.54' '14.54' '46584500']\n",
      " ['15.51' '15.96' '15.40' '15.63' '15.63' '19801800']\n",
      " ['15.35' '15.60' '15.20' '15.54' '15.54' '19132800']\n",
      " ['15.00' '15.42' '14.94' '15.20' '15.20' '20481300']\n",
      " ['14.65' '15.04' '14.58' '14.84' '14.84' '12387300']\n",
      " ['14.85' '14.88' '14.54' '14.65' '14.65' '9877800']\n",
      " ['14.63' '14.98' '14.57' '14.88' '14.88' '14023200']\n",
      " ['14.86' '14.89' '14.46' '14.58' '14.58' '11767600']\n",
      " ['14.95' '15.12' '14.36' '14.88' '14.88' '18063600']\n",
      " ['15.24' '15.50' '14.77' '14.92' '14.92' '21276200']\n",
      " ['14.44' '14.98' '14.42' '14.80' '14.80' '17711200']\n",
      " ['14.29' '14.58' '14.18' '14.48' '14.48' '16189200']\n",
      " ['14.28' '14.47' '14.04' '14.15' '14.15' '12383900']\n",
      " ['14.35' '14.57' '13.98' '14.25' '14.25' '13533900']\n",
      " ['14.70' '14.96' '14.19' '14.39' '14.39' '17015400']\n",
      " ['13.69' '14.78' '13.62' '14.59' '14.59' '20131800']\n",
      " ['15.67' '15.67' '13.80' '14.08' '14.08' '33231800']\n",
      " ['15.67' '15.73' '14.45' '14.46' '14.46' '30892600']\n",
      " ['15.94' '16.12' '15.65' '15.87' '15.87' '15434500']]\n"
     ]
    }
   ],
   "source": [
    "# we load data scrapped from Yahoo finance for SNAP into a numpy array\n",
    "import re\n",
    "import csv\n",
    "\n",
    "values = []\n",
    "dates = []\n",
    "header =None\n",
    "with open(\"snap.csv\", newline='') as file:\n",
    "    reader = csv.reader(file)\n",
    "    for row in reader:\n",
    "        if header is None:\n",
    "            header = row\n",
    "        else:\n",
    "            values.append(row[1:])\n",
    "            dates.append(row[0])\n",
    "        \n",
    "stock = np.array(values)\n",
    "print(stock)"
   ]
  },
  {
   "cell_type": "code",
   "execution_count": 23,
   "metadata": {},
   "outputs": [
    {
     "name": "stdout",
     "output_type": "stream",
     "text": [
      "[[1.180000e+01 1.186000e+01 1.157000e+01 1.173000e+01 1.173000e+01\n",
      "  1.397780e+07]\n",
      " [1.216000e+01 1.217000e+01 1.163000e+01 1.189000e+01 1.189000e+01\n",
      "  2.244460e+07]\n",
      " [1.230000e+01 1.258000e+01 1.210000e+01 1.217000e+01 1.217000e+01\n",
      "  1.465290e+07]\n",
      " [1.227000e+01 1.230000e+01 1.211000e+01 1.218000e+01 1.218000e+01\n",
      "  1.364360e+07]\n",
      " [1.265000e+01 1.273000e+01 1.231000e+01 1.234000e+01 1.234000e+01\n",
      "  1.304270e+07]\n",
      " [1.224000e+01 1.277000e+01 1.224000e+01 1.257000e+01 1.257000e+01\n",
      "  1.572440e+07]\n",
      " [1.214000e+01 1.250000e+01 1.209000e+01 1.231000e+01 1.231000e+01\n",
      "  1.588390e+07]\n",
      " [1.215000e+01 1.267000e+01 1.207000e+01 1.231000e+01 1.231000e+01\n",
      "  2.429070e+07]\n",
      " [1.283000e+01 1.284000e+01 1.204000e+01 1.223000e+01 1.223000e+01\n",
      "  6.118360e+07]\n",
      " [1.301000e+01 1.337000e+01 1.278000e+01 1.312000e+01 1.312000e+01\n",
      "  5.020200e+07]\n",
      " [1.273000e+01 1.313000e+01 1.271000e+01 1.305000e+01 1.305000e+01\n",
      "  1.765660e+07]\n",
      " [1.271000e+01 1.301000e+01 1.266000e+01 1.273000e+01 1.273000e+01\n",
      "  1.151290e+07]\n",
      " [1.231000e+01 1.275000e+01 1.218000e+01 1.270000e+01 1.270000e+01\n",
      "  1.173190e+07]\n",
      " [1.255000e+01 1.261000e+01 1.220000e+01 1.238000e+01 1.238000e+01\n",
      "  1.122800e+07]\n",
      " [1.226000e+01 1.257000e+01 1.215000e+01 1.250000e+01 1.250000e+01\n",
      "  1.487450e+07]\n",
      " [1.274000e+01 1.275000e+01 1.200000e+01 1.227000e+01 1.227000e+01\n",
      "  2.715690e+07]\n",
      " [1.314000e+01 1.318000e+01 1.252000e+01 1.283000e+01 1.283000e+01\n",
      "  2.828270e+07]\n",
      " [1.307000e+01 1.340000e+01 1.277000e+01 1.337000e+01 1.337000e+01\n",
      "  2.003730e+07]\n",
      " [1.332000e+01 1.344000e+01 1.316000e+01 1.339000e+01 1.339000e+01\n",
      "  1.650910e+07]\n",
      " [1.345000e+01 1.345000e+01 1.296000e+01 1.314000e+01 1.314000e+01\n",
      "  1.587030e+07]\n",
      " [1.320000e+01 1.341000e+01 1.311000e+01 1.339000e+01 1.339000e+01\n",
      "  8.894500e+06]\n",
      " [1.345000e+01 1.346000e+01 1.321000e+01 1.327000e+01 1.327000e+01\n",
      "  8.760900e+06]\n",
      " [1.330000e+01 1.361000e+01 1.329000e+01 1.343000e+01 1.343000e+01\n",
      "  1.345780e+07]\n",
      " [1.340000e+01 1.350000e+01 1.317000e+01 1.335000e+01 1.335000e+01\n",
      "  1.072650e+07]\n",
      " [1.295000e+01 1.354000e+01 1.291000e+01 1.342000e+01 1.342000e+01\n",
      "  1.678130e+07]\n",
      " [1.325000e+01 1.348000e+01 1.290000e+01 1.307000e+01 1.307000e+01\n",
      "  1.817590e+07]\n",
      " [1.360000e+01 1.369000e+01 1.330000e+01 1.336000e+01 1.336000e+01\n",
      "  1.221580e+07]\n",
      " [1.343000e+01 1.366000e+01 1.341000e+01 1.365000e+01 1.365000e+01\n",
      "  1.178400e+07]\n",
      " [1.310000e+01 1.342000e+01 1.305000e+01 1.340000e+01 1.340000e+01\n",
      "  1.044460e+07]\n",
      " [1.373000e+01 1.376000e+01 1.325000e+01 1.331000e+01 1.331000e+01\n",
      "  1.482120e+07]\n",
      " [1.366000e+01 1.414000e+01 1.324000e+01 1.365000e+01 1.365000e+01\n",
      "  2.875540e+07]\n",
      " [1.317000e+01 1.367000e+01 1.310000e+01 1.353000e+01 1.353000e+01\n",
      "  1.492510e+07]\n",
      " [1.313000e+01 1.322000e+01 1.285000e+01 1.321000e+01 1.321000e+01\n",
      "  1.473470e+07]\n",
      " [1.315000e+01 1.323000e+01 1.291000e+01 1.315000e+01 1.315000e+01\n",
      "  8.219500e+06]\n",
      " [1.305000e+01 1.323000e+01 1.300000e+01 1.315000e+01 1.315000e+01\n",
      "  1.028380e+07]\n",
      " [1.341000e+01 1.357000e+01 1.309000e+01 1.309000e+01 1.309000e+01\n",
      "  1.397230e+07]\n",
      " [1.280000e+01 1.341000e+01 1.280000e+01 1.340000e+01 1.340000e+01\n",
      "  1.803310e+07]\n",
      " [1.304000e+01 1.354000e+01 1.281000e+01 1.282000e+01 1.282000e+01\n",
      "  2.156710e+07]\n",
      " [1.311000e+01 1.322000e+01 1.293000e+01 1.300000e+01 1.300000e+01\n",
      "  1.298540e+07]\n",
      " [1.301000e+01 1.320000e+01 1.290000e+01 1.310000e+01 1.310000e+01\n",
      "  1.236310e+07]\n",
      " [1.325000e+01 1.330000e+01 1.294000e+01 1.320000e+01 1.320000e+01\n",
      "  1.355170e+07]\n",
      " [1.275000e+01 1.342000e+01 1.271000e+01 1.324000e+01 1.324000e+01\n",
      "  2.527940e+07]\n",
      " [1.285000e+01 1.309000e+01 1.269000e+01 1.280000e+01 1.280000e+01\n",
      "  3.277060e+07]\n",
      " [1.361000e+01 1.361000e+01 1.266000e+01 1.331000e+01 1.331000e+01\n",
      "  5.969610e+07]\n",
      " [1.404000e+01 1.447000e+01 1.368000e+01 1.405000e+01 1.405000e+01\n",
      "  3.404560e+07]\n",
      " [1.372000e+01 1.417000e+01 1.372000e+01 1.402000e+01 1.402000e+01\n",
      "  2.742320e+07]\n",
      " [1.371000e+01 1.399000e+01 1.363000e+01 1.387000e+01 1.387000e+01\n",
      "  3.068070e+07]\n",
      " [1.356000e+01 1.406000e+01 1.353000e+01 1.362000e+01 1.362000e+01\n",
      "  3.441440e+07]\n",
      " [1.321000e+01 1.395000e+01 1.314000e+01 1.342000e+01 1.342000e+01\n",
      "  3.890370e+07]\n",
      " [1.311000e+01 1.324000e+01 1.292000e+01 1.317000e+01 1.317000e+01\n",
      "  1.968020e+07]\n",
      " [1.256000e+01 1.335000e+01 1.242000e+01 1.308000e+01 1.308000e+01\n",
      "  3.459830e+07]\n",
      " [1.303000e+01 1.305000e+01 1.237000e+01 1.273000e+01 1.273000e+01\n",
      "  3.806640e+07]\n",
      " [1.333000e+01 1.365000e+01 1.290000e+01 1.313000e+01 1.313000e+01\n",
      "  4.926900e+07]\n",
      " [1.241000e+01 1.298000e+01 1.230000e+01 1.293000e+01 1.293000e+01\n",
      "  4.701900e+07]\n",
      " [1.181000e+01 1.240000e+01 1.170000e+01 1.232000e+01 1.232000e+01\n",
      "  5.042030e+07]\n",
      " [1.171000e+01 1.196000e+01 1.121000e+01 1.163000e+01 1.163000e+01\n",
      "  4.646320e+07]\n",
      " [1.117000e+01 1.179000e+01 1.111000e+01 1.139000e+01 1.139000e+01\n",
      "  6.289210e+07]\n",
      " [1.057000e+01 1.115000e+01 1.055000e+01 1.097000e+01 1.097000e+01\n",
      "  2.870010e+07]\n",
      " [1.068000e+01 1.070000e+01 1.052000e+01 1.055000e+01 1.055000e+01\n",
      "  1.126470e+07]\n",
      " [1.066000e+01 1.072000e+01 1.061000e+01 1.071000e+01 1.071000e+01\n",
      "  1.050170e+07]\n",
      " [1.063000e+01 1.068000e+01 1.051000e+01 1.060000e+01 1.060000e+01\n",
      "  1.375340e+07]\n",
      " [1.068000e+01 1.073000e+01 1.056000e+01 1.065000e+01 1.065000e+01\n",
      "  1.700000e+07]\n",
      " [1.079000e+01 1.083000e+01 1.070000e+01 1.074000e+01 1.074000e+01\n",
      "  1.356220e+07]\n",
      " [1.075000e+01 1.102000e+01 1.071000e+01 1.071000e+01 1.071000e+01\n",
      "  2.046230e+07]\n",
      " [1.056000e+01 1.086000e+01 1.052000e+01 1.058000e+01 1.058000e+01\n",
      "  1.844840e+07]\n",
      " [1.065000e+01 1.087000e+01 1.050000e+01 1.057000e+01 1.057000e+01\n",
      "  2.698290e+07]\n",
      " [1.060000e+01 1.075000e+01 1.055000e+01 1.058000e+01 1.058000e+01\n",
      "  1.983600e+07]\n",
      " [1.095000e+01 1.096000e+01 1.051000e+01 1.065000e+01 1.065000e+01\n",
      "  2.927790e+07]\n",
      " [1.100000e+01 1.105000e+01 1.085000e+01 1.098000e+01 1.098000e+01\n",
      "  1.910580e+07]\n",
      " [1.100000e+01 1.105000e+01 1.085000e+01 1.104000e+01 1.104000e+01\n",
      "  1.692990e+07]\n",
      " [1.101000e+01 1.118000e+01 1.093000e+01 1.101000e+01 1.101000e+01\n",
      "  1.906910e+07]\n",
      " [1.098000e+01 1.118000e+01 1.091000e+01 1.101000e+01 1.101000e+01\n",
      "  1.985650e+07]\n",
      " [1.095000e+01 1.143000e+01 1.075000e+01 1.097000e+01 1.097000e+01\n",
      "  3.553640e+07]\n",
      " [1.076000e+01 1.090000e+01 1.061000e+01 1.074000e+01 1.074000e+01\n",
      "  2.474380e+07]\n",
      " [1.086000e+01 1.093000e+01 1.057000e+01 1.079000e+01 1.079000e+01\n",
      "  3.986500e+07]\n",
      " [1.111000e+01 1.130000e+01 1.051000e+01 1.097000e+01 1.097000e+01\n",
      "  6.750700e+07]\n",
      " [1.130000e+01 1.170000e+01 1.096000e+01 1.103000e+01 1.103000e+01\n",
      "  1.592094e+08]\n",
      " [1.434000e+01 1.455000e+01 1.375000e+01 1.413000e+01 1.413000e+01\n",
      "  5.000390e+07]\n",
      " [1.436000e+01 1.444000e+01 1.409000e+01 1.433000e+01 1.433000e+01\n",
      "  2.157380e+07]\n",
      " [1.475000e+01 1.482000e+01 1.416000e+01 1.423000e+01 1.423000e+01\n",
      "  2.176310e+07]\n",
      " [1.488000e+01 1.514000e+01 1.448000e+01 1.470000e+01 1.470000e+01\n",
      "  2.273680e+07]\n",
      " [1.562000e+01 1.567000e+01 1.416000e+01 1.454000e+01 1.454000e+01\n",
      "  4.658450e+07]\n",
      " [1.551000e+01 1.596000e+01 1.540000e+01 1.563000e+01 1.563000e+01\n",
      "  1.980180e+07]\n",
      " [1.535000e+01 1.560000e+01 1.520000e+01 1.554000e+01 1.554000e+01\n",
      "  1.913280e+07]\n",
      " [1.500000e+01 1.542000e+01 1.494000e+01 1.520000e+01 1.520000e+01\n",
      "  2.048130e+07]\n",
      " [1.465000e+01 1.504000e+01 1.458000e+01 1.484000e+01 1.484000e+01\n",
      "  1.238730e+07]\n",
      " [1.485000e+01 1.488000e+01 1.454000e+01 1.465000e+01 1.465000e+01\n",
      "  9.877800e+06]\n",
      " [1.463000e+01 1.498000e+01 1.457000e+01 1.488000e+01 1.488000e+01\n",
      "  1.402320e+07]\n",
      " [1.486000e+01 1.489000e+01 1.446000e+01 1.458000e+01 1.458000e+01\n",
      "  1.176760e+07]\n",
      " [1.495000e+01 1.512000e+01 1.436000e+01 1.488000e+01 1.488000e+01\n",
      "  1.806360e+07]\n",
      " [1.524000e+01 1.550000e+01 1.477000e+01 1.492000e+01 1.492000e+01\n",
      "  2.127620e+07]\n",
      " [1.444000e+01 1.498000e+01 1.442000e+01 1.480000e+01 1.480000e+01\n",
      "  1.771120e+07]\n",
      " [1.429000e+01 1.458000e+01 1.418000e+01 1.448000e+01 1.448000e+01\n",
      "  1.618920e+07]\n",
      " [1.428000e+01 1.447000e+01 1.404000e+01 1.415000e+01 1.415000e+01\n",
      "  1.238390e+07]\n",
      " [1.435000e+01 1.457000e+01 1.398000e+01 1.425000e+01 1.425000e+01\n",
      "  1.353390e+07]\n",
      " [1.470000e+01 1.496000e+01 1.419000e+01 1.439000e+01 1.439000e+01\n",
      "  1.701540e+07]\n",
      " [1.369000e+01 1.478000e+01 1.362000e+01 1.459000e+01 1.459000e+01\n",
      "  2.013180e+07]\n",
      " [1.567000e+01 1.567000e+01 1.380000e+01 1.408000e+01 1.408000e+01\n",
      "  3.323180e+07]\n",
      " [1.567000e+01 1.573000e+01 1.445000e+01 1.446000e+01 1.446000e+01\n",
      "  3.089260e+07]\n",
      " [1.594000e+01 1.612000e+01 1.565000e+01 1.587000e+01 1.587000e+01\n",
      "  1.543450e+07]]\n"
     ]
    }
   ],
   "source": [
    "from numpy import genfromtxt\n",
    "data = genfromtxt('snap.csv', delimiter=',')\n",
    "data = data[1:, 1:]\n",
    "print(data)"
   ]
  },
  {
   "cell_type": "code",
   "execution_count": 25,
   "metadata": {},
   "outputs": [
    {
     "data": {
      "image/png": "[encoded data removed]",
      "text/plain": [
       "<Figure size 432x288 with 1 Axes>"
      ]
     },
     "metadata": {
      "needs_background": "light"
     },
     "output_type": "display_data"
    }
   ],
   "source": [
    "import matplotlib.pyplot as plt\n",
    "\n",
    "fig = plt.figure()\n",
    "ax = fig.add_subplot(1, 1, 1)\n",
    "ax.get_yaxis().get_major_formatter().set_scientific(False)\n",
    "\n",
    "ax.bar(data[:,0], data[:,4])\n",
    "ax.autoscale_view()\n",
    "\n",
    "plt.title(\"Volume traded\")\n",
    "plt.ylabel(\"number stocks\")\n",
    "plt.xlabel(\"price\")\n",
    "plt.show()"
   ]
  },
  {
   "cell_type": "code",
   "execution_count": 26,
   "metadata": {},
   "outputs": [
    {
     "data": {
      "image/png": "[encoded data removed]",
      "text/plain": [
       "<Figure size 432x288 with 1 Axes>"
      ]
     },
     "metadata": {
      "needs_background": "light"
     },
     "output_type": "display_data"
    }
   ],
   "source": [
    "import datetime\n",
    "import matplotlib\n",
    "import matplotlib.dates as mdates\n",
    "\n",
    "\n",
    "fig = plt.figure()\n",
    "ax = fig.add_subplot(1, 1, 1)\n",
    "dates2 = matplotlib.dates.date2num([datetime.datetime.strptime(d, \"%b %d %Y\") for d in dates])\n",
    "\n",
    "plt.plot_date(dates2,stock[:,1],'-')\n",
    "plt.gcf().autofmt_xdate()\n",
    "\n",
    "plt.title(\"SNAP highest price\")\n",
    "plt.ylabel(\"price\")\n",
    "plt.xlabel(\"date\")\n",
    "plt.show()"
   ]
  },
  {
   "cell_type": "code",
   "execution_count": 27,
   "metadata": {},
   "outputs": [
    {
     "ename": "UFuncTypeError",
     "evalue": "ufunc 'add' did not contain a loop with signature matching types (dtype('<U9'), dtype('<U9')) -> dtype('<U9')",
     "output_type": "error",
     "traceback": [
      "\u001b[0;31m---------------------------------------------------------------------------\u001b[0m",
      "\u001b[0;31mUFuncTypeError\u001b[0m                            Traceback (most recent call last)",
      "\u001b[0;32m<ipython-input-27-e2d6500bdf35>\u001b[0m in \u001b[0;36m<module>\u001b[0;34m\u001b[0m\n\u001b[1;32m      5\u001b[0m \u001b[0mplt\u001b[0m\u001b[0;34m.\u001b[0m\u001b[0mplot_date\u001b[0m\u001b[0;34m(\u001b[0m\u001b[0mdates2\u001b[0m\u001b[0;34m,\u001b[0m\u001b[0mstock\u001b[0m\u001b[0;34m[\u001b[0m\u001b[0;34m:\u001b[0m\u001b[0;34m,\u001b[0m\u001b[0;36m0\u001b[0m\u001b[0;34m]\u001b[0m\u001b[0;34m,\u001b[0m\u001b[0;34m'-'\u001b[0m\u001b[0;34m)\u001b[0m\u001b[0;34m\u001b[0m\u001b[0;34m\u001b[0m\u001b[0m\n\u001b[1;32m      6\u001b[0m \u001b[0mplt\u001b[0m\u001b[0;34m.\u001b[0m\u001b[0mplot_date\u001b[0m\u001b[0;34m(\u001b[0m\u001b[0mdates2\u001b[0m\u001b[0;34m,\u001b[0m\u001b[0mstock\u001b[0m\u001b[0;34m[\u001b[0m\u001b[0;34m:\u001b[0m\u001b[0;34m,\u001b[0m\u001b[0;36m3\u001b[0m\u001b[0;34m]\u001b[0m\u001b[0;34m,\u001b[0m\u001b[0;34m'-'\u001b[0m\u001b[0;34m)\u001b[0m\u001b[0;34m\u001b[0m\u001b[0;34m\u001b[0m\u001b[0m\n\u001b[0;32m----> 7\u001b[0;31m \u001b[0mplt\u001b[0m\u001b[0;34m.\u001b[0m\u001b[0mplot_date\u001b[0m\u001b[0;34m(\u001b[0m\u001b[0mdates2\u001b[0m\u001b[0;34m,\u001b[0m\u001b[0;34m(\u001b[0m\u001b[0mstock\u001b[0m\u001b[0;34m[\u001b[0m\u001b[0;34m:\u001b[0m\u001b[0;34m,\u001b[0m\u001b[0;36m1\u001b[0m\u001b[0;34m]\u001b[0m \u001b[0;34m+\u001b[0m \u001b[0mstock\u001b[0m\u001b[0;34m[\u001b[0m\u001b[0;34m:\u001b[0m\u001b[0;34m,\u001b[0m\u001b[0;36m2\u001b[0m\u001b[0;34m]\u001b[0m\u001b[0;34m)\u001b[0m\u001b[0;34m/\u001b[0m\u001b[0;36m2\u001b[0m\u001b[0;34m,\u001b[0m\u001b[0;34m'-'\u001b[0m\u001b[0;34m)\u001b[0m\u001b[0;34m\u001b[0m\u001b[0;34m\u001b[0m\u001b[0m\n\u001b[0m\u001b[1;32m      8\u001b[0m \u001b[0mplt\u001b[0m\u001b[0;34m.\u001b[0m\u001b[0mgcf\u001b[0m\u001b[0;34m(\u001b[0m\u001b[0;34m)\u001b[0m\u001b[0;34m.\u001b[0m\u001b[0mautofmt_xdate\u001b[0m\u001b[0;34m(\u001b[0m\u001b[0;34m)\u001b[0m\u001b[0;34m\u001b[0m\u001b[0;34m\u001b[0m\u001b[0m\n\u001b[1;32m      9\u001b[0m \u001b[0;34m\u001b[0m\u001b[0m\n",
      "\u001b[0;31mUFuncTypeError\u001b[0m: ufunc 'add' did not contain a loop with signature matching types (dtype('<U9'), dtype('<U9')) -> dtype('<U9')"
     ]
    },
    {
     "data": {
      "image/png": "[encoded data removed]",
      "text/plain": [
       "<Figure size 432x288 with 1 Axes>"
      ]
     },
     "metadata": {
      "needs_background": "light"
     },
     "output_type": "display_data"
    }
   ],
   "source": [
    "fig = plt.figure()\n",
    "ax = fig.add_subplot(1, 1, 1)\n",
    "dates2 = matplotlib.dates.date2num([datetime.datetime.strptime(d, \"%b %d %Y\") for d in dates])\n",
    "\n",
    "plt.plot_date(dates2,stock[:,0],'-')\n",
    "plt.plot_date(dates2,stock[:,3],'-')\n",
    "plt.plot_date(dates2,(stock[:,1] + stock[:,2])/2,'-')\n",
    "plt.gcf().autofmt_xdate()\n",
    "\n",
    "plt.title(\"SNAP open and close prices\")\n",
    "plt.ylabel(\"price\")\n",
    "plt.xlabel(\"date\")\n",
    "plt.legend(['open', 'close' ], loc='lower left')\n",
    "plt.show()"
   ]
  },
  {
   "cell_type": "code",
   "execution_count": 28,
   "metadata": {},
   "outputs": [
    {
     "ename": "UFuncTypeError",
     "evalue": "ufunc 'add' did not contain a loop with signature matching types (dtype('<U9'), dtype('<U9')) -> dtype('<U9')",
     "output_type": "error",
     "traceback": [
      "\u001b[0;31m---------------------------------------------------------------------------\u001b[0m",
      "\u001b[0;31mUFuncTypeError\u001b[0m                            Traceback (most recent call last)",
      "\u001b[0;32m<ipython-input-28-3b62f084a175>\u001b[0m in \u001b[0;36m<module>\u001b[0;34m\u001b[0m\n\u001b[1;32m      4\u001b[0m \u001b[0mf\u001b[0m\u001b[0;34m.\u001b[0m\u001b[0mset_figheight\u001b[0m\u001b[0;34m(\u001b[0m\u001b[0;36m5\u001b[0m\u001b[0;34m)\u001b[0m\u001b[0;34m\u001b[0m\u001b[0;34m\u001b[0m\u001b[0m\n\u001b[1;32m      5\u001b[0m \u001b[0;34m\u001b[0m\u001b[0m\n\u001b[0;32m----> 6\u001b[0;31m \u001b[0max1\u001b[0m\u001b[0;34m.\u001b[0m\u001b[0merrorbar\u001b[0m\u001b[0;34m(\u001b[0m\u001b[0mdates2\u001b[0m\u001b[0;34m,\u001b[0m \u001b[0;34m(\u001b[0m\u001b[0mstock\u001b[0m\u001b[0;34m[\u001b[0m\u001b[0;34m:\u001b[0m\u001b[0;34m,\u001b[0m\u001b[0;36m1\u001b[0m\u001b[0;34m]\u001b[0m \u001b[0;34m+\u001b[0m \u001b[0mstock\u001b[0m\u001b[0;34m[\u001b[0m\u001b[0;34m:\u001b[0m\u001b[0;34m,\u001b[0m\u001b[0;36m2\u001b[0m\u001b[0;34m]\u001b[0m\u001b[0;34m)\u001b[0m\u001b[0;34m/\u001b[0m\u001b[0;36m2\u001b[0m\u001b[0;34m,\u001b[0m\u001b[0;34m(\u001b[0m\u001b[0mstock\u001b[0m\u001b[0;34m[\u001b[0m\u001b[0;34m:\u001b[0m\u001b[0;34m,\u001b[0m\u001b[0;36m1\u001b[0m\u001b[0;34m]\u001b[0m \u001b[0;34m-\u001b[0m \u001b[0mstock\u001b[0m\u001b[0;34m[\u001b[0m\u001b[0;34m:\u001b[0m\u001b[0;34m,\u001b[0m\u001b[0;36m2\u001b[0m\u001b[0;34m]\u001b[0m\u001b[0;34m)\u001b[0m\u001b[0;34m/\u001b[0m\u001b[0;36m2\u001b[0m\u001b[0;34m)\u001b[0m\u001b[0;34m\u001b[0m\u001b[0;34m\u001b[0m\u001b[0m\n\u001b[0m\u001b[1;32m      7\u001b[0m \u001b[0max1\u001b[0m\u001b[0;34m.\u001b[0m\u001b[0mset_title\u001b[0m\u001b[0;34m(\u001b[0m\u001b[0;34m\"SNAP average price\"\u001b[0m\u001b[0;34m)\u001b[0m\u001b[0;34m\u001b[0m\u001b[0;34m\u001b[0m\u001b[0m\n\u001b[1;32m      8\u001b[0m \u001b[0max1\u001b[0m\u001b[0;34m.\u001b[0m\u001b[0mset_ylabel\u001b[0m\u001b[0;34m(\u001b[0m\u001b[0;34m\"price\"\u001b[0m\u001b[0;34m)\u001b[0m\u001b[0;34m\u001b[0m\u001b[0;34m\u001b[0m\u001b[0m\n",
      "\u001b[0;31mUFuncTypeError\u001b[0m: ufunc 'add' did not contain a loop with signature matching types (dtype('<U9'), dtype('<U9')) -> dtype('<U9')"
     ]
    },
    {
     "data": {
      "image/png": "[encoded data removed]",
      "text/plain": [
       "<Figure size 1080x360 with 2 Axes>"
      ]
     },
     "metadata": {
      "needs_background": "light"
     },
     "output_type": "display_data"
    }
   ],
   "source": [
    "f, (ax1, ax2) = plt.subplots(1, 2, sharey=False)\n",
    "\n",
    "f.set_figwidth(15)\n",
    "f.set_figheight(5)\n",
    "\n",
    "ax1.errorbar(dates2, (stock[:,1] + stock[:,2])/2,(stock[:,1] - stock[:,2])/2)\n",
    "ax1.set_title(\"SNAP average price\")\n",
    "ax1.set_ylabel(\"price\")\n",
    "ax1.set_xlabel(\"date\")\n",
    "ax1.legend(['average price '], loc='lower left')\n",
    "\n",
    "ax2.plot(dates2, stock[:,1], '-')\n",
    "ax2.plot(dates2, stock[:,2], '-')\n",
    "ax2.set_title(\"SNAP high and low prices\")\n",
    "ax2.set_ylabel(\"price\")\n",
    "ax2.set_xlabel(\"date\")\n",
    "ax2.legend(['high', 'low' ], loc='lower left')\n",
    "\n",
    "\n",
    "plt.show()\n"
   ]
  },
  {
   "cell_type": "code",
   "execution_count": null,
   "metadata": {},
   "outputs": [],
   "source": []
  }
 ],
 "metadata": {
  "kernelspec": {
   "display_name": "Python 3",
   "language": "python",
   "name": "python3"
  },
  "language_info": {
   "codemirror_mode": {
    "name": "ipython",
    "version": 3
   },
   "file_extension": ".py",
   "mimetype": "text/x-python",
   "name": "python",
   "nbconvert_exporter": "python",
   "pygments_lexer": "ipython3",
   "version": "3.7.4"
  }
 },
 "nbformat": 4,
 "nbformat_minor": 4
}
