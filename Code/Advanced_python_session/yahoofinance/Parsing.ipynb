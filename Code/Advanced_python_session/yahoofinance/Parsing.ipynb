{
 "cells": [
  {
   "cell_type": "markdown",
   "metadata": {},
   "source": [
    "# Beautiful Soup\n"
   ]
  },
  {
   "cell_type": "code",
   "execution_count": null,
   "metadata": {
    "collapsed": true,
    "jupyter": {
     "outputs_hidden": true
    }
   },
   "outputs": [],
   "source": [
    "import urllib2\n",
    "import csv\n",
    "from bs4 import BeautifulSoup\n"
   ]
  },
  {
   "cell_type": "code",
   "execution_count": null,
   "metadata": {
    "collapsed": true,
    "jupyter": {
     "outputs_hidden": true
    }
   },
   "outputs": [],
   "source": [
    "#open url\n",
    "data_source = 'https://finance.yahoo.com/'\n",
    "req = urllib2.Request(data_source, headers={'User-Agent': 'Mozilla/5.0'})\n",
    "page = urllib2.urlopen(req).read()\n",
    "soup = BeautifulSoup(page, \"html5lib\")\n"
   ]
  },
  {
   "cell_type": "markdown",
   "metadata": {},
   "source": [
    "## Print html data"
   ]
  },
  {
   "cell_type": "code",
   "execution_count": null,
   "metadata": {},
   "outputs": [],
   "source": [
    "print type(soup)\n",
    "print soup.prettify()"
   ]
  },
  {
   "cell_type": "markdown",
   "metadata": {},
   "source": [
    "## Finding all the news headlines and  news sources"
   ]
  },
  {
   "cell_type": "code",
   "execution_count": null,
   "metadata": {},
   "outputs": [],
   "source": [
    "news = soup.find_all(\"h3\", class_=\"Mb(5px)\")\n",
    "print \"Number of news: %d\\n\" % (len(news))\n",
    "titles = []\n",
    "sources = []\n",
    "for element in news:\n",
    "    t = element.a\n",
    "    titles.append(t.get_text())\n",
    "    s = t['href']\n",
    "    sources.append(s)\n",
    "    print t.get_text()\n",
    "    print data_source + s\n",
    "    "
   ]
  },
  {
   "cell_type": "code",
   "execution_count": null,
   "metadata": {
    "collapsed": true,
    "jupyter": {
     "outputs_hidden": true
    }
   },
   "outputs": [],
   "source": [
    " \n",
    "with open(\"headlines.csv\", 'wb') as file:\n",
    "    writer = csv.writer(file, delimiter=',')\n",
    "    for t, s in zip(titles, sources):\n",
    "        writer.writerow([t.encode('utf-8').strip(), s])"
   ]
  },
  {
   "cell_type": "markdown",
   "metadata": {},
   "source": [
    "## Getting world market data from Yahoo Finance"
   ]
  },
  {
   "cell_type": "code",
   "execution_count": null,
   "metadata": {
    "collapsed": true,
    "jupyter": {
     "outputs_hidden": true
    }
   },
   "outputs": [],
   "source": [
    "#different url here\n",
    "data_source = 'https://finance.yahoo.com/world-indices'\n",
    "req = urllib2.Request(data_source, headers={'User-Agent': 'Mozilla/5.0'})\n",
    "page = urllib2.urlopen(req).read()\n",
    "soup= BeautifulSoup(page, \"html5lib\")\n",
    "markets = soup.find(\"div\", class_=\"Ovx(a)\")\n",
    "\n",
    "#print markets.prettify()        "
   ]
  },
  {
   "cell_type": "code",
   "execution_count": null,
   "metadata": {},
   "outputs": [],
   "source": [
    "symbols = {}\n",
    "rows = markets.find_all('li')\n",
    "\n",
    "for row in rows:\n",
    "    \n",
    "    symbol = row.find_all('a')\n",
    "    price = row.find_all('span', class_=\"Trsdu(0.3s) Fz(s) Mb(0px) D(b)\")\n",
    "    change = row.find_all('span', class_=\"Trsdu(0.3s) Fz(s) D(b) C($dataGreen)\")\n",
    "    \n",
    "    if not change:\n",
    "        change = row.find_all('span', class_=\"Trsdu(0.3s) Fz(s) D(b) C($dataRed)\")\n",
    "    if not (symbol):\n",
    "        continue\n",
    "        \n",
    "    url = data_source + symbol[0].get('href')\n",
    "    name = symbol[0].get('title')\n",
    "    val = price[0].get_text().strip()\n",
    "    chng = change[0].get_text().strip().split()\n",
    "    symbols[name] = [url, val, chng[0]]\n",
    "    print name, symbols[name]\n"
   ]
  },
  {
   "cell_type": "code",
   "execution_count": null,
   "metadata": {},
   "outputs": [],
   "source": [
    "with open(\"markets.csv\", 'wb') as file:\n",
    "    writer = csv.writer(file, delimiter=';')\n",
    "    for name, vals in symbols.items():\n",
    "        line = [name]\n",
    "        line.extend(vals)\n",
    "        print line\n",
    "        writer.writerow(line)"
   ]
  },
  {
   "cell_type": "markdown",
   "metadata": {},
   "source": [
    "## Historical data from Yahoo"
   ]
  },
  {
   "cell_type": "code",
   "execution_count": null,
   "metadata": {},
   "outputs": [],
   "source": [
    "data_source = 'https://finance.yahoo.com/quote/SNAP/history?period1=1503270736&period2=1534806736&interval=1d&filter=history&frequency=1d'\n",
    "req = urllib2.Request(data_source, headers={'User-Agent': 'Mozilla/5.0 (X11; Linux x86_64) AppleWebKit/537.11 (KHTML, like Gecko) Chrome/23.0.1271.64 Safari/537.11',\n",
    "       'Accept': 'text/html,application/xhtml+xml,application/xml;q=0.9,*/*;q=0.8'})\n",
    "page = urllib2.urlopen(req).read()\n",
    "soup = BeautifulSoup(page, \"html5lib\")\n",
    "\n",
    "snap = soup.find(\"table\", class_=\"W(100%) M(0)\")\n",
    "\n",
    "snap_header = snap.find('thead')\n",
    "headers = snap_header.find_all('th')\n",
    "\n",
    "snap_body = snap.find('tbody')\n",
    "rows = snap_body.find_all('tr')\n",
    "\n",
    "with open(\"snap.csv\", 'wb') as file:\n",
    "    writer = csv.writer(file, delimiter=',')\n",
    "    header = [h.get_text().strip().replace(\"*\", \"\") for h in headers]\n",
    "    print header  \n",
    "    writer.writerow(header)\n",
    "    for row in rows:\n",
    "        line = row.get_text().strip().split()\n",
    "        date_tag = row.find_all(\"td\", class_=\"Py(10px) Ta(start) Pend(10px)\")\n",
    "        if date_tag:\n",
    "            values_tag = row.find_all(\"td\", class_=\"Py(10px) Pstart(10px)\")\n",
    "            line = [date_tag[0].get_text().strip().replace(\",\", \"\")] + [v.get_text().strip().replace(\",\", \"\") for v in values_tag]\n",
    "            print line\n",
    "            writer.writerow(line)\n",
    "\n"
   ]
  },
  {
   "cell_type": "code",
   "execution_count": null,
   "metadata": {
    "collapsed": true,
    "jupyter": {
     "outputs_hidden": true
    }
   },
   "outputs": [],
   "source": []
  }
 ],
 "metadata": {
  "kernelspec": {
   "display_name": "Python 3",
   "language": "python",
   "name": "python3"
  },
  "language_info": {
   "codemirror_mode": {
    "name": "ipython",
    "version": 3
   },
   "file_extension": ".py",
   "mimetype": "text/x-python",
   "name": "python",
   "nbconvert_exporter": "python",
   "pygments_lexer": "ipython3",
   "version": "3.7.4"
  }
 },
 "nbformat": 4,
 "nbformat_minor": 4
}
