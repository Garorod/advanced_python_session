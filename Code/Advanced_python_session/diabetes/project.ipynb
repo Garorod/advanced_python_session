{
 "cells": [
  {
   "cell_type": "markdown",
   "metadata": {
    "_cell_guid": "bef711b6-6728-45b8-897a-ec4382e10278",
    "_uuid": "0422ba28af8fbe1cc89e64b0c20fa7e53b548626"
   },
   "source": [
    "# Introduction\n",
    "\n",
    "In this exercise, Pima Indian diabetes dataset is explored and machine learning models and Neural Network with Keras are developed to predict if a person is going to have diabetes.  \n",
    "Below is a nice video I got about this 5 minute diabetes study in Kaggle, please watch this."
   ]
  },
  {
   "cell_type": "code",
   "execution_count": 1,
   "metadata": {
    "_cell_guid": "3459be32-0869-4a7f-a1fd-f5956af102a7",
    "_uuid": "3165bead200be0cd112f21700c38d2fa74e51dfc"
   },
   "outputs": [
    {
     "data": {
      "image/jpeg": "[encoded data removed]",
      "text/html": [
       "\n",
       "        <iframe\n",
       "            width=\"400\"\n",
       "            height=\"300\"\n",
       "            src=\"https://www.youtube.com/embed/pN4HqWRybwk\"\n",
       "            frameborder=\"0\"\n",
       "            allowfullscreen\n",
       "        ></iframe>\n",
       "        "
      ],
      "text/plain": [
       "<IPython.lib.display.YouTubeVideo at 0x7f5c4a3635d0>"
      ]
     },
     "execution_count": 1,
     "metadata": {},
     "output_type": "execute_result"
    }
   ],
   "source": [
    "from IPython.display import YouTubeVideo\n",
    "YouTubeVideo(\"pN4HqWRybwk\")"
   ]
  },
  {
   "cell_type": "code",
   "execution_count": 2,
   "metadata": {
    "_cell_guid": "14c2a8ce-834b-4a79-92c9-262cbe6afbcf",
    "_uuid": "bebd1b589b1d8e1c1c3584639b9b900bf61b7567"
   },
   "outputs": [
    {
     "data": {
      "text/plain": [
       "['.ipynb_checkpoints', 'project.ipynb']"
      ]
     },
     "execution_count": 2,
     "metadata": {},
     "output_type": "execute_result"
    }
   ],
   "source": [
    "# Import the packages\n",
    "\n",
    "import pandas as pd\n",
    "import numpy as np\n",
    "import itertools\n",
    "\n",
    "\n",
    "import matplotlib.pyplot as plt\n",
    "plt.style.use('fivethirtyeight')\n",
    "import matplotlib.gridspec as gridspec\n",
    "import seaborn as sns\n",
    "sns.set(style='whitegrid', palette='muted', font_scale=1.5)\n",
    "from pylab import rcParams\n",
    "rcParams['figure.figsize'] = 12, 8\n",
    "\n",
    "import os\n",
    "os.listdir()\n",
    "\n",
    "# Any results you write to the current directory are saved as output."
   ]
  },
  {
   "cell_type": "markdown",
   "metadata": {
    "_cell_guid": "8dacc3df-228c-4105-8d87-495947377ed8",
    "_uuid": "b82e1e7fa92186e95fc627d48fad476bd38d5bb6"
   },
   "source": [
    "## Loading and checking the dataset"
   ]
  },
  {
   "cell_type": "code",
   "execution_count": 3,
   "metadata": {
    "_cell_guid": "ab6355a5-65de-4709-9639-eff5f1b8afde",
    "_uuid": "a887343e0e39b27a32a6a0981a91464b20964400",
    "collapsed": true,
    "jupyter": {
     "outputs_hidden": true
    }
   },
   "outputs": [],
   "source": [
    "diab=pd.read_csv('../input/diabetes.csv')"
   ]
  },
  {
   "cell_type": "code",
   "execution_count": 4,
   "metadata": {
    "_cell_guid": "43775a7f-ffa1-494c-adee-a7820281ef14",
    "_uuid": "bfe74dfd1cd579ba594c1305a556fd289b5c4bff"
   },
   "outputs": [],
   "source": [
    "diab.isnull().sum()"
   ]
  },
  {
   "cell_type": "markdown",
   "metadata": {
    "_cell_guid": "252d9eb4-036a-4057-be3e-a2423141598d",
    "_uuid": "97b1ea017805de3cdc91c2545c05566ff4ec769f"
   },
   "source": [
    "There is no empty row for any of the columns. So we can start analyzng it."
   ]
  },
  {
   "cell_type": "code",
   "execution_count": 5,
   "metadata": {
    "_cell_guid": "cac9386e-eead-4c49-8a6c-b14bd2019e69",
    "_uuid": "711c56f03cf83cc9eeea563398c456f4f9f5aa29"
   },
   "outputs": [],
   "source": [
    "diab.describe()"
   ]
  },
  {
   "cell_type": "code",
   "execution_count": 6,
   "metadata": {
    "_cell_guid": "4d309fe7-46f2-4c1e-afab-b43646a0d6f6",
    "_uuid": "1484449b964342aac9064347ce8af40469e41684"
   },
   "outputs": [],
   "source": [
    "diab.info()"
   ]
  },
  {
   "cell_type": "markdown",
   "metadata": {
    "_cell_guid": "cb3b01c5-1273-41aa-912f-883ef1df472d",
    "_uuid": "ac426f3cc91d095f7607c9b71f061c67b3c2d7d8"
   },
   "source": [
    "## Exploring the dataset"
   ]
  },
  {
   "cell_type": "markdown",
   "metadata": {
    "_cell_guid": "739e4d40-ca4e-4380-b2f5-508701a915d9",
    "_uuid": "f646562f738f46944ea05340b634ab07285cccd4"
   },
   "source": [
    "Outcome is the target column in the dataset. Outcome '1' is with diabetes and '0' is without diabetes, we get their total counts in the dataset. \n",
    "Other columns in the dataset will be input to the models. \n",
    "Let us have a look at the count of Outcome columns. "
   ]
  },
  {
   "cell_type": "code",
   "execution_count": 7,
   "metadata": {
    "_cell_guid": "59fb13e9-f513-459b-8432-fcfe9c5b3698",
    "_uuid": "167d9180b46904f6457c6fcad0e75a2fd2e11e6d"
   },
   "outputs": [],
   "source": [
    "sns.countplot(x='Outcome',data=diab)\n",
    "plt.show()"
   ]
  },
  {
   "cell_type": "markdown",
   "metadata": {
    "_cell_guid": "9057063b-e376-42dc-be08-951f0729ea17",
    "_uuid": "111b56cbe659637519fca186e19bbf7962ae73b5"
   },
   "source": [
    "Basic stat summary of the feature columns against the Outcome column to see any differences between having and not having diabetes.  \n",
    "We can notice some mean differences between having diabetes and no diabetes (may not be statistically significant within certain confidence level). It will be difficult to judge though if you have many more columns."
   ]
  },
  {
   "cell_type": "code",
   "execution_count": 8,
   "metadata": {
    "_cell_guid": "40a8a33c-8daf-4a2b-9ad7-d16bbe1e6ab5",
    "_uuid": "31713bf1b1560d7bc208f2af67faecec1dcea86c"
   },
   "outputs": [],
   "source": [
    "grouped = diab.groupby('Outcome').agg({'Pregnancies':['mean', 'std', min, max], \n",
    "                                       'Glucose':['mean', 'std', min, max],\n",
    "                                       'BloodPressure':['mean', 'std', min, max],\n",
    "                                       'SkinThickness':['mean', 'std', min, max],\n",
    "                                       'Insulin':['mean', 'std', min, max],\n",
    "                                       'BMI':['mean', 'std', min, max],\n",
    "                                       'DiabetesPedigreeFunction':['mean', 'std', min, max],\n",
    "                                       'Age':['mean', 'std', min, max]\n",
    "                                      })\n",
    "grouped.columns = [\"_\".join(x) for x in grouped.columns.ravel()]\n",
    "grouped # or grouped.T"
   ]
  },
  {
   "cell_type": "markdown",
   "metadata": {
    "_cell_guid": "ae05ff8e-f36c-454d-be58-c39002aa3329",
    "_uuid": "72ab6b01aa686de3868e992a5f2d9530c92c9dc7"
   },
   "source": [
    "Let us have look at the distribution of the features grouping them by the Outcome column.  \n",
    "Outcome 0 is no diabetes, 1 is with diabetes."
   ]
  },
  {
   "cell_type": "code",
   "execution_count": 9,
   "metadata": {
    "_cell_guid": "3c500ae0-1265-45d3-b1cc-80fd37dce1e0",
    "_uuid": "0d1cbf93beb0813e3d31fad855f2172f89d6cf5b"
   },
   "outputs": [],
   "source": [
    "columns=diab.columns[:8]\n",
    "plt.figure(figsize=(12,28*4))\n",
    "gs = gridspec.GridSpec(28, 1)\n",
    "for i, cn in enumerate(diab[columns]):\n",
    "    ax = plt.subplot(gs[i])\n",
    "    sns.distplot(diab[cn][diab.Outcome == 1], bins=50)\n",
    "    sns.distplot(diab[cn][diab.Outcome == 0], bins=50)\n",
    "    ax.set_xlabel('')\n",
    "    plt.legend(diab[\"Outcome\"])\n",
    "    ax.set_title('histogram of feature: ' + str(cn))\n",
    "plt.show()"
   ]
  },
  {
   "cell_type": "markdown",
   "metadata": {
    "_cell_guid": "3a2cdf15-cb58-4eb9-9523-fb0b6939dde4",
    "_uuid": "7488a5bc7767294d39c369c25ef54f44ea98c53f"
   },
   "source": [
    "Distribution of diabetes cases are overall similar to distribution of non-diabetes distribution in each feature. No single parameter can explain the difference betweeen diabetes and non-diabetes. \n",
    "\n",
    "## Correlation matrix"
   ]
  },
  {
   "cell_type": "code",
   "execution_count": 10,
   "metadata": {
    "_cell_guid": "5513470d-fa4b-4d88-b625-d23702ea3cbf",
    "_uuid": "9be9417b082539e6dc6e75c13eac012148595ffc"
   },
   "outputs": [],
   "source": [
    "sns.heatmap(diab[diab.columns[:8]].corr(),annot=True,cmap='RdYlGn')\n",
    "fig=plt.gcf()\n",
    "plt.show()"
   ]
  },
  {
   "cell_type": "markdown",
   "metadata": {
    "_cell_guid": "f24cfda6-4231-43e2-b016-97c6b30d8f8d",
    "_uuid": "45ba104bd7bbef188d7daefb7a1e43d7133622da"
   },
   "source": [
    "Input parameters are not highly correlated. So we can keep all the parameters for the model. \n",
    "Another way to look at it is by doing pair plots."
   ]
  },
  {
   "cell_type": "markdown",
   "metadata": {
    "_cell_guid": "53ac379c-bdc2-4d60-825e-44697fb89491",
    "_uuid": "cf298834081bb57a1d4aae08b50d47b57c0cdfa2"
   },
   "source": [
    "# Proceed to model building"
   ]
  },
  {
   "cell_type": "code",
   "execution_count": 11,
   "metadata": {
    "_cell_guid": "acad23e0-634f-4436-86bb-ff36aca3979e",
    "_uuid": "4fa151f982f68c9ef603a99ba284b1e0226fac6a",
    "collapsed": true,
    "jupyter": {
     "outputs_hidden": true
    }
   },
   "outputs": [],
   "source": [
    "from sklearn import svm\n",
    "from sklearn.neighbors import KNeighborsClassifier\n",
    "from sklearn.tree import DecisionTreeClassifier\n",
    "from sklearn.model_selection import train_test_split\n",
    "from sklearn.model_selection import KFold\n",
    "from sklearn.linear_model import LogisticRegression\n",
    "from sklearn.ensemble import RandomForestClassifier \n",
    "from sklearn.naive_bayes import GaussianNB\n",
    "from sklearn import metrics\n",
    "import warnings\n",
    "warnings.filterwarnings('ignore')"
   ]
  },
  {
   "cell_type": "markdown",
   "metadata": {
    "_cell_guid": "5c23a7d6-3fd0-49ae-9d98-df711d9ead43",
    "_uuid": "582c62dccec818461af2bd9ff8201f871720710a"
   },
   "source": [
    "Split into train and test **stratify**ing the 'Outcome' column.  \n",
    "This guarantees the train-test split ratio in the 'Outcome' column both in the training set and the testing set. "
   ]
  },
  {
   "cell_type": "code",
   "execution_count": 12,
   "metadata": {
    "_cell_guid": "af458cb3-7908-4863-b246-667cded7b0e5",
    "_uuid": "3be33d353de625f075d9b790ca7c5167b0274fa2",
    "collapsed": true,
    "jupyter": {
     "outputs_hidden": true
    }
   },
   "outputs": [],
   "source": [
    "outcome=diab['Outcome']\n",
    "data=diab[diab.columns[:8]]\n",
    "train,test=train_test_split(diab,test_size=0.25,random_state=0,stratify=diab['Outcome'])# stratify the outcome\n",
    "train_X=train[train.columns[:8]]\n",
    "test_X=test[test.columns[:8]]\n",
    "train_Y=train['Outcome']\n",
    "test_Y=test['Outcome']"
   ]
  },
  {
   "cell_type": "markdown",
   "metadata": {
    "_cell_guid": "8be85f5c-15be-4790-9e42-460a916ba861",
    "_uuid": "3ce3c3a53e978d52453d698b16282a381247a420"
   },
   "source": [
    "### Feature Centering and Scaling\n",
    "\n",
    "train_X and test_X datasets are centered to zero and normalized by the std dev. This helps in faster gradient descent."
   ]
  },
  {
   "cell_type": "code",
   "execution_count": 13,
   "metadata": {
    "_cell_guid": "127a57d4-2eb3-4287-bd9c-4ed73fd19964",
    "_uuid": "672a0f5dfdf4f3e93c34f7bc000eb9d6e5987762",
    "collapsed": true,
    "jupyter": {
     "outputs_hidden": true
    }
   },
   "outputs": [],
   "source": [
    "features = train_X.columns.values\n",
    "\n",
    "for feature in features:\n",
    "    mean, std = diab[feature].mean(), diab[feature].std()\n",
    "    train_X.loc[:, feature] = (train_X[feature] - mean) / std\n",
    "    test_X.loc[:, feature] = (test_X[feature] - mean) / std"
   ]
  },
  {
   "cell_type": "markdown",
   "metadata": {
    "_cell_guid": "0e168215-673e-4685-aff0-5d6e8b2ef645",
    "_uuid": "5b886df0395ae268d9c5cae61cb88ba878647731"
   },
   "source": [
    "Let us compare al the models for their accuracy:\n"
   ]
  },
  {
   "cell_type": "code",
   "execution_count": 14,
   "metadata": {
    "_cell_guid": "6b6d81f2-8058-4558-821f-111ee802b5a6",
    "_uuid": "2d169d36280569d5142dc97f2c3b77b68429f3af"
   },
   "outputs": [],
   "source": [
    "abc=[]\n",
    "classifiers=['Linear Svm','Radial Svm','Logistic Regression','KNN','Decision Tree', 'Random forest', 'Naive Bayes']\n",
    "models=[svm.SVC(kernel='linear'),svm.SVC(kernel='rbf'),LogisticRegression(),\n",
    "        KNeighborsClassifier(n_neighbors=3),DecisionTreeClassifier(), \n",
    "        RandomForestClassifier(n_estimators=100,random_state=0), GaussianNB()]\n",
    "for i in models:\n",
    "    model = i\n",
    "    model.fit(train_X,train_Y)\n",
    "    prediction=model.predict(test_X)\n",
    "    abc.append(metrics.accuracy_score(prediction,test_Y))\n",
    "models_dataframe=pd.DataFrame(abc,index=classifiers)   \n",
    "models_dataframe.columns=['Accuracy']\n",
    "models_dataframe.sort_values(['Accuracy'], ascending=[0])"
   ]
  },
  {
   "cell_type": "markdown",
   "metadata": {
    "_cell_guid": "21795ba2-fb59-4d51-a545-8b5f5aaf5199",
    "_uuid": "499816d4750fa774846267119ebc79d5f3d7072d"
   },
   "source": [
    "We see that random forest classifier has better accuracy of 80.72%. Next, logistic regression and linear SVM has similar accuracy of more than 77%.\n",
    "Let us look at the featureimportance in Random forest classifier."
   ]
  },
  {
   "cell_type": "code",
   "execution_count": 15,
   "metadata": {
    "_cell_guid": "c5888a67-3577-4b03-a491-eb824857fab2",
    "_uuid": "abcd49df1aef67bfd00a2bad990957bfb1becfa4"
   },
   "outputs": [],
   "source": [
    "modelRF= RandomForestClassifier(n_estimators=100,random_state=0)\n",
    "modelRF.fit(train_X,train_Y)\n",
    "predictionRF=modelRF.predict(test_X)\n",
    "pd.Series(modelRF.feature_importances_,index=train_X.columns).sort_values(ascending=False)"
   ]
  },
  {
   "cell_type": "markdown",
   "metadata": {
    "_cell_guid": "6bd01599-c754-4415-89f6-40825b817f9c",
    "_uuid": "6829764c5b9531fe3ff57669a36cebb5ab356fcb"
   },
   "source": [
    "Top five important features are 'Glucose', 'BMI', 'Age', 'DiabetesPedigreeFunction' and 'Blood pressure'. Next, pregnancies (only in case of women) have higher chances of diabetes."
   ]
  },
  {
   "cell_type": "markdown",
   "metadata": {
    "_cell_guid": "b337dcf0-9440-4561-a2e0-a7752a505988",
    "_uuid": "d411be97cfbf9040a492710b8bb71a634a72ceec"
   },
   "source": [
    "### Cross validation\n",
    "\n",
    "Most of the time, the dataset has imbalance in classes, say one or more class(es) has higher instances than the other classes. In that case, we should train the model in each and every instances of the dataset. After that we take average of all the noted accuracies over the dataset. \n",
    "\n",
    "1. For a K-fold cross validation, we first divide the dataset into K subsets. \n",
    "2. Then we train on K-1 parts and test on the remainig 1 part. \n",
    "3. We continue to do that by taking each part as testing and training on the remaining K-1. Accuracies and errors are then averaged to get an average accuracy of the algorithm.\n",
    "4. For certain subset the algorithm will underfit while for a certain other it will overfit. With K-fold cross validation we achieve a generalized model.\n",
    "\n",
    "Below we approach the K-fold cross validation for this dataset."
   ]
  },
  {
   "cell_type": "code",
   "execution_count": 16,
   "metadata": {
    "_cell_guid": "f9ad32c2-9bde-49e5-94d4-392fe25439dd",
    "_uuid": "d69b45f2764d305d0a65b2fc9338158192e29f88",
    "collapsed": true,
    "jupyter": {
     "outputs_hidden": true
    }
   },
   "outputs": [],
   "source": [
    "from sklearn.model_selection import KFold #for K-fold cross validation\n",
    "from sklearn.model_selection import cross_val_score #score evaluation\n",
    "from sklearn.preprocessing import StandardScaler #Standardisation"
   ]
  },
  {
   "cell_type": "code",
   "execution_count": 17,
   "metadata": {
    "_cell_guid": "ff3ee80f-8731-4170-8ae3-8781e8fb8a39",
    "_uuid": "237bbf7bbf6a6fe04e91ad5a561a225d56047a49",
    "collapsed": true,
    "jupyter": {
     "outputs_hidden": true
    }
   },
   "outputs": [],
   "source": [
    "kfold = KFold(n_splits=10, random_state=22) # k=10 splits the data into 10 equal parts"
   ]
  },
  {
   "cell_type": "code",
   "execution_count": 18,
   "metadata": {
    "_cell_guid": "478dc16b-a4f1-4c85-bf5b-b9d495dc4cd5",
    "_uuid": "5196eb038ed0e44b81ff714b71e6e1051abbacf6",
    "collapsed": true,
    "jupyter": {
     "outputs_hidden": true
    }
   },
   "outputs": [],
   "source": [
    "# Starting with the original dataset and then doing centering and scaling\n",
    "features=diab[diab.columns[:8]]\n",
    "features_standard=StandardScaler().fit_transform(features)# Gaussian Standardisation\n",
    "X=pd.DataFrame(features_standard,columns=['Pregnancies', 'Glucose', 'BloodPressure', 'SkinThickness', \n",
    "                                          'Insulin', 'BMI', 'DiabetesPedigreeFunction', 'Age'])\n",
    "X['Outcome']=diab['Outcome']"
   ]
  },
  {
   "cell_type": "code",
   "execution_count": 19,
   "metadata": {
    "_cell_guid": "6c9609f6-f6f6-4d73-a7bb-dd5cd1a2e79d",
    "_uuid": "dec04a79740b6083ea52018028af69c4a1112d3e"
   },
   "outputs": [],
   "source": [
    "xyz=[]\n",
    "accuracy=[]\n",
    "classifiers=['Linear Svm','Radial Svm','Logistic Regression','KNN','Decision Tree', 'Random forest', 'Naive Bayes']\n",
    "models=[svm.SVC(kernel='linear'),svm.SVC(kernel='rbf'),LogisticRegression(),\n",
    "        KNeighborsClassifier(n_neighbors=3),DecisionTreeClassifier(), \n",
    "        RandomForestClassifier(n_estimators=100,random_state=0), GaussianNB()]\n",
    "\n",
    "for i in models:\n",
    "    model = i\n",
    "    cv_result = cross_val_score(model,X[X.columns[:8]], X['Outcome'], cv = kfold, scoring = \"accuracy\")\n",
    "    cv_result=cv_result\n",
    "    xyz.append(cv_result.mean())\n",
    "    accuracy.append(cv_result)\n",
    "\n",
    "cv_models_dataframe=pd.DataFrame(xyz, index=classifiers)   \n",
    "cv_models_dataframe.columns=['CV Mean']    \n",
    "cv_models_dataframe\n",
    "cv_models_dataframe.sort_values(['CV Mean'], ascending=[0])"
   ]
  },
  {
   "cell_type": "code",
   "execution_count": 20,
   "metadata": {
    "_cell_guid": "73871c0c-1688-45d3-a10d-0ee531ed5d4f",
    "_uuid": "ac44d8550c168193f0b21e752e2d16f23a680b79",
    "collapsed": true,
    "jupyter": {
     "outputs_hidden": true
    }
   },
   "outputs": [],
   "source": [
    "box=pd.DataFrame(accuracy,index=[classifiers])\n",
    "boxT = box.T"
   ]
  },
  {
   "cell_type": "code",
   "execution_count": 21,
   "metadata": {
    "_cell_guid": "4157b7bc-7f9b-4c0f-a9f0-5e2fe5ed7fc0",
    "_uuid": "a53d8f4c58500ef793dbb272437a7f888d02c8f1"
   },
   "outputs": [],
   "source": [
    "ax = sns.boxplot(data=boxT, orient=\"h\", palette=\"Set2\", width=.6)\n",
    "ax.set_yticklabels(classifiers)\n",
    "ax.set_title('Cross validation accuracies with different classifiers')\n",
    "ax.set_xlabel('Accuracy')\n",
    "plt.show()"
   ]
  },
  {
   "cell_type": "markdown",
   "metadata": {
    "_cell_guid": "5b9f1494-ebe3-4347-b3c3-690da35b82cc",
    "_uuid": "fd7b8dc77bac4546cc07960717d4769ec3d5f46d"
   },
   "source": [
    "The above plots shows that Linear SVM and Logistic Regression performs better in cross validation while tree based methods, Decision Tree and Random Forrest are worse with wider distribution of their acccuracies.\n",
    "\n",
    "## Ensembling\n",
    "\n",
    "In ensemble methods, we create multiple models and then combine them that gives us better results. Enseble methods typically gives better accuracy than a single model. The models used to create such ensemble models are called base models.  \n",
    "\n",
    "Let us do ensembling with **Voting Ensemble**. First we create two or more standalone models on the training dataset. A voting classifier wrap the models to get average predictions. Models with higher individual accuracies are weighted higher.  \n",
    "\n",
    "Since KNN, Decision Tree and Random Forest models have wide range of accuracies in K-fold validation, they are not considered in ensembling the models.\n",
    "\n",
    "Other the models: Linear SVM, Radial SVM and Logistic Regression are combined together to get an ensemble model."
   ]
  },
  {
   "cell_type": "code",
   "execution_count": 25,
   "metadata": {
    "_cell_guid": "05bdca50-9c05-4dfd-92f8-b0ff5206f365",
    "_uuid": "df77177c83a372772c6890f4c8f543f784ee8977",
    "collapsed": true,
    "jupyter": {
     "outputs_hidden": true
    }
   },
   "outputs": [],
   "source": [
    "linear_svm=svm.SVC(kernel='linear',C=0.1,gamma=10, probability=True)\n",
    "radial_svm=svm.SVC(kernel='rbf',C=0.1,gamma=10, probability=True)\n",
    "lr=LogisticRegression(C=0.1)"
   ]
  },
  {
   "cell_type": "code",
   "execution_count": 26,
   "metadata": {
    "_cell_guid": "32e4e008-d3d5-4b49-bb1f-b61e62ca01ec",
    "_uuid": "eb7b55b2f8c3223f6e6e7bd8c3bd063c5963608e",
    "collapsed": true,
    "jupyter": {
     "outputs_hidden": true
    }
   },
   "outputs": [],
   "source": [
    "from sklearn.ensemble import VotingClassifier #for Voting Classifier"
   ]
  },
  {
   "cell_type": "markdown",
   "metadata": {
    "_cell_guid": "dba7cc14-1703-4954-8182-5f169aaa4a2c",
    "_uuid": "5ff24c220d74d46cd2276056af091a8897a4e26b"
   },
   "source": [
    "### Ensamble with 3 classifiers combined: Linear SVM, radial SVM, Log Reg"
   ]
  },
  {
   "cell_type": "code",
   "execution_count": 27,
   "metadata": {
    "_cell_guid": "eb85a546-8868-4b62-b205-0ee02eb6c3eb",
    "_uuid": "45e50c2f2db341b2a6f8130a4ad937b1c059d743"
   },
   "outputs": [],
   "source": [
    "ensembleModel=VotingClassifier(estimators=[('Linear_svm',linear_svm), ('Radial_svm', radial_svm), ('Logistic Regression', lr)], \n",
    "                                            voting='soft', weights=[2,1,3])\n",
    "\n",
    "ensembleModel.fit(train_X,train_Y)\n",
    "predictEnsemble = ensembleModel.predict(test_X)"
   ]
  },
  {
   "cell_type": "code",
   "execution_count": 28,
   "metadata": {
    "_cell_guid": "ef30d2b0-a7bb-4c9c-b48a-dd784a28f1b4",
    "_uuid": "cdf093193b40bd32d949aa8882a3897865f61d17"
   },
   "outputs": [],
   "source": [
    "print('Accuracy of ensembled model with all the 3 classifiers is:', np.round(ensembleModel.score(test_X,test_Y), 4))"
   ]
  },
  {
   "cell_type": "markdown",
   "metadata": {
    "_cell_guid": "ccb5abfd-a414-4ed4-8835-7a92686837fa",
    "_uuid": "bff542a981e65c04b6a89dd6e4b57044bd8d003a"
   },
   "source": [
    "**### ROC curve with AUC"
   ]
  },
  {
   "cell_type": "code",
   "execution_count": 29,
   "metadata": {
    "_cell_guid": "ca307ebf-d0f8-4147-bc79-389c72e71e7d",
    "_uuid": "741c8daed771fcc567b03c20301d0194c88dd747",
    "collapsed": true,
    "jupyter": {
     "outputs_hidden": true
    }
   },
   "outputs": [],
   "source": [
    "from sklearn import metrics\n",
    "from sklearn.metrics import (confusion_matrix, precision_recall_curve, auc, roc_curve, recall_score, \n",
    "                             classification_report, f1_score, average_precision_score, precision_recall_fscore_support)"
   ]
  },
  {
   "cell_type": "code",
   "execution_count": 31,
   "metadata": {
    "_cell_guid": "063e51a0-798e-4a39-b06e-bcb72ce1417c",
    "_uuid": "f8156b6fdfeed0c29632e6e30a47f2a2cfa611b1"
   },
   "outputs": [],
   "source": [
    "# Logistic regression\n",
    "modelLR = LogisticRegression()\n",
    "modelLR.fit(train_X,train_Y)\n",
    "y_pred_prob_lr = modelLR.predict_proba(test_X)[:,1]\n",
    "fpr_lr, tpr_lr, thresholds_lr = roc_curve(test_Y, y_pred_prob_lr)\n",
    "roc_auc_lr = auc(fpr_lr, tpr_lr)\n",
    "precision_lr, recall_lr, th_lr = precision_recall_curve(test_Y, y_pred_prob_lr)\n",
    "\n",
    "# SVM with rbf\n",
    "modelSVMrbf=svm.SVC(kernel='rbf', probability=True)\n",
    "modelSVMrbf.fit(train_X,train_Y)\n",
    "y_pred_prob_SVMrbf = modelSVMrbf.predict_proba(test_X)[:,1]\n",
    "fpr_SVMrbf, tpr_SVMrbf, thresholds_SVMrbf = roc_curve(test_Y, y_pred_prob_SVMrbf)\n",
    "roc_auc_SVMrbf = auc(fpr_SVMrbf, tpr_SVMrbf)\n",
    "precision_SVMrbf, recall_SVMrbf, th_SVMrbf = precision_recall_curve(test_Y, y_pred_prob_SVMrbf)\n",
    "\n",
    "# SVM with linear\n",
    "modelSVMlinear=svm.SVC(kernel='linear', probability=True)\n",
    "modelSVMlinear.fit(train_X,train_Y)\n",
    "y_pred_prob_SVMlinear = modelSVMlinear.predict_proba(test_X)[:,1]\n",
    "fpr_SVMlinear, tpr_SVMlinear, thresholds_SVMlinear = roc_curve(test_Y, y_pred_prob_SVMlinear)\n",
    "roc_auc_SVMlinear = auc(fpr_SVMlinear, tpr_SVMlinear)\n",
    "precision_SVMlinear, recall_SVMlinear, th_SVMlinear = precision_recall_curve(test_Y, y_pred_prob_SVMlinear)\n",
    "\n",
    "# KNN\n",
    "modelKNN = KNeighborsClassifier(n_neighbors=3)\n",
    "modelKNN.fit(train_X,train_Y)\n",
    "y_pred_prob_KNN = modelKNN.predict_proba(test_X)[:,1]\n",
    "fpr_KNN, tpr_KNN, thresholds_KNN = roc_curve(test_Y, y_pred_prob_KNN)\n",
    "roc_auc_KNN = auc(fpr_KNN, tpr_KNN)\n",
    "precision_KNN, recall_KNN, th_KNN = precision_recall_curve(test_Y, y_pred_prob_KNN)\n",
    "\n",
    "\n",
    "# Decision Tree\n",
    "modelTree=DecisionTreeClassifier()\n",
    "modelTree.fit(train_X,train_Y)\n",
    "y_pred_prob_Tree = modelTree.predict_proba(test_X)[:,1]\n",
    "fpr_Tree, tpr_Tree, thresholds_Tree = roc_curve(test_Y, y_pred_prob_Tree)\n",
    "roc_auc_Tree = auc(fpr_Tree, tpr_Tree)\n",
    "precision_Tree, recall_Tree, th_Tree = precision_recall_curve(test_Y, y_pred_prob_Tree)\n",
    "\n",
    "# Random forest\n",
    "modelRF= RandomForestClassifier(n_estimators=100,random_state=0)\n",
    "modelRF.fit(train_X,train_Y)\n",
    "y_pred_prob_rf = modelRF.predict_proba(test_X)[:,1]\n",
    "fpr_rf, tpr_rf, thresholds_rf = roc_curve(test_Y, y_pred_prob_rf)\n",
    "roc_auc_rf = auc(fpr_rf, tpr_rf)\n",
    "precision_rf, recall_rf, th_rf = precision_recall_curve(test_Y, y_pred_prob_rf)\n",
    "\n",
    "\n",
    "# Naive Bayes\n",
    "modelNB= GaussianNB()\n",
    "modelNB.fit(train_X,train_Y)\n",
    "y_pred_prob_nb = modelNB.predict_proba(test_X)[:,1]\n",
    "fpr_nb, tpr_nb, thresholds_nb = roc_curve(test_Y, y_pred_prob_nb)\n",
    "roc_auc_nb = auc(fpr_nb, tpr_nb)\n",
    "precision_nb, recall_nb, th_nb = precision_recall_curve(test_Y, y_pred_prob_nb)\n",
    "\n",
    "# Ensamble \n",
    "y_pred_prob_en = ensembleModel.predict_proba(test_X)[:,1]\n",
    "fpr_en, tpr_en, thresholds_en = roc_curve(test_Y, y_pred_prob_en)\n",
    "roc_auc_en = auc(fpr_en, tpr_en)\n",
    "precision_en, recall_en, th_en = precision_recall_curve(test_Y, y_pred_prob_en)"
   ]
  },
  {
   "cell_type": "code",
   "execution_count": 32,
   "metadata": {
    "_cell_guid": "69c5a985-090e-42e4-9099-c0ca0bf5b8e4",
    "_uuid": "f49fc04c161b3e0fbeb892b76f6a185a9b44a5d9"
   },
   "outputs": [],
   "source": [
    "# Plot ROC curve\n",
    "plt.plot([0, 1], [0, 1], 'k--')\n",
    "plt.plot(fpr_lr, tpr_lr, label='Log Reg (area = %0.3f)' % roc_auc_lr)\n",
    "plt.plot(fpr_SVMrbf, tpr_SVMrbf, label='SVM rbf (area = %0.3f)' % roc_auc_SVMrbf)\n",
    "plt.plot(fpr_SVMlinear, tpr_SVMlinear, label='SVM linear (area = %0.3f)' % roc_auc_SVMlinear)\n",
    "plt.plot(fpr_KNN, tpr_KNN, label='KNN (area = %0.3f)' % roc_auc_KNN)\n",
    "plt.plot(fpr_Tree, tpr_Tree, label='Tree (area = %0.3f)' % roc_auc_Tree)\n",
    "plt.plot(fpr_rf, tpr_rf, label='RF (area = %0.3f)' % roc_auc_rf)\n",
    "plt.plot(fpr_nb, tpr_nb, label='NB (area = %0.3f)' % roc_auc_nb)\n",
    "plt.plot(fpr_en, tpr_en, label='Ensamble (area = %0.3f)' % roc_auc_en)\n",
    "plt.xlabel('False Positive Rate')\n",
    "plt.ylabel('True Positive Rate')\n",
    "plt.title('ROC curves from the investigated models')\n",
    "plt.legend(loc='best')\n",
    "plt.show()"
   ]
  },
  {
   "cell_type": "markdown",
   "metadata": {
    "_cell_guid": "7ab346a3-0ede-417d-be55-8fae4b2501bb",
    "_uuid": "ac479228ee10f47c501c908de129e1fc28785578"
   },
   "source": [
    "We see that Tree, KNN, RF and NB models are somewhat worse compared to the other models in AUC.  \n",
    "Ensamble model is not standing out compared to LogReg and SVM models.  \n",
    "Nevertheless, **ensamble model is expected to be more robust for any future addition of training data**.  \n",
    "\n",
    "### Precision-recall curve comparing the models"
   ]
  },
  {
   "cell_type": "code",
   "execution_count": 33,
   "metadata": {
    "_uuid": "04b055284e4c87afe1046df3344353581732e9ed"
   },
   "outputs": [],
   "source": [
    "plt.plot([1, 0], [0, 1], 'k--')\n",
    "plt.plot(recall_lr, precision_lr, label='Log Reg')\n",
    "plt.plot(recall_SVMrbf, precision_SVMrbf, label='SVM rbf')\n",
    "plt.plot(recall_SVMlinear, precision_SVMlinear, label='SVM linear')\n",
    "plt.plot(recall_KNN, precision_KNN, label='KNN')\n",
    "plt.plot(recall_Tree, precision_Tree, label='Tree')\n",
    "plt.plot(recall_rf, precision_rf, label='RF')\n",
    "plt.plot(recall_nb, precision_nb, label='NB')\n",
    "plt.plot(recall_en, precision_en, label='Ensamble')\n",
    "plt.title('Precision vs. Recall')\n",
    "plt.xlabel('Recall')\n",
    "plt.ylabel('Precision')\n",
    "plt.legend(loc='best')\n",
    "plt.show()"
   ]
  },
  {
   "cell_type": "markdown",
   "metadata": {
    "_uuid": "f7b8bf3513f31df5e6387e07337c0eba4c119888"
   },
   "source": [
    "With higher recall (outcome = 1 i.e. having diavetes), precision (outcome=0, i.e. no diabetes)  goes down.   \n",
    "Again the ensamble model is comparable to LogReg and SVM models and other models are worse.\n",
    "\n",
    "### Confusion matrix with ensamble model\n",
    "> \n",
    "Let us look at the confusion matrix from the ensamble classifier.  \n",
    "First define a function to plot confusion matrix"
   ]
  },
  {
   "cell_type": "code",
   "execution_count": 34,
   "metadata": {
    "_cell_guid": "1b010ac7-57b7-457c-bd3f-8503f3b824a4",
    "_uuid": "629d03728e869d2decd47a8e4c6aa5313878fb7e",
    "collapsed": true,
    "jupyter": {
     "outputs_hidden": true
    }
   },
   "outputs": [],
   "source": [
    "def plot_confusion_matrix(cm, classes,\n",
    "                          normalize=False,\n",
    "                          title='Confusion matrix',\n",
    "                          cmap=plt.cm.Blues):\n",
    "    \"\"\"\n",
    "    This function prints and plots the confusion matrix.\n",
    "    Normalization can be applied by setting `normalize=True`.\n",
    "    \"\"\"\n",
    "    plt.imshow(cm, interpolation='nearest', cmap=cmap)\n",
    "    plt.title(title)\n",
    "    plt.colorbar()\n",
    "    tick_marks = np.arange(len(classes))\n",
    "    plt.xticks(tick_marks, classes, rotation=45)\n",
    "    plt.yticks(tick_marks, classes)\n",
    "\n",
    "    if normalize:\n",
    "        cm = cm.astype('float') / cm.sum(axis=1)[:, np.newaxis]\n",
    "\n",
    "    thresh = cm.max() / 2.\n",
    "    for i, j in itertools.product(range(cm.shape[0]), range(cm.shape[1])):\n",
    "        plt.text(j, i, cm[i, j],\n",
    "                 horizontalalignment=\"center\",\n",
    "                 color=\"white\" if cm[i, j] > thresh else \"black\")\n",
    "\n",
    "    plt.tight_layout()\n",
    "    plt.ylabel('True label')\n",
    "    plt.xlabel('Predicted label')"
   ]
  },
  {
   "cell_type": "code",
   "execution_count": 35,
   "metadata": {
    "_cell_guid": "d6ac36ea-38d0-43ab-82c8-aeba6b1b87df",
    "_uuid": "0568b3fed6796451dbb2518064d43047acadf6ab"
   },
   "outputs": [],
   "source": [
    "class_names = test_Y.unique()\n",
    "cmEnsamble = confusion_matrix(test_Y, predictEnsemble)\n",
    "plot_confusion_matrix(cmEnsamble, classes=class_names, title='Confusion matrix with ensamble model, without normalization')"
   ]
  },
  {
   "cell_type": "markdown",
   "metadata": {
    "_cell_guid": "4d36592b-a54e-4c32-8903-a42376416339",
    "_uuid": "550dadd743259d8114a6b32f0b498fdb1e272e0f"
   },
   "source": [
    "> ## Model report with ensamble model"
   ]
  },
  {
   "cell_type": "code",
   "execution_count": 36,
   "metadata": {
    "_cell_guid": "56b98c5a-5aec-45bc-9835-e5fb443904c4",
    "_uuid": "ecd4117c689ee162b94fa141fb7e2a8158b8e804",
    "scrolled": true
   },
   "outputs": [],
   "source": [
    "print(metrics.classification_report(test_Y, predictEnsemble))"
   ]
  },
  {
   "cell_type": "markdown",
   "metadata": {
    "_cell_guid": "c9fb1c8b-33e5-430b-a6e0-7f97882ace72",
    "_uuid": "dd079631e0621fae4c0a80cb95c0ae8d12b8466c"
   },
   "source": [
    "Looking at the recall scores for 0 (no diabetes) and 1 (having diabetes), the model did well for predicting no diabetes (correct 92% of the time) while did not do that well for predicting diabetes (correct 54% of the time).  So, there is room for improving prediction for diabetes.  \n",
    "\n",
    "\n",
    "## Diabetes prediction using Neural Network with Keras\n",
    "\n",
    "Keras is a high level frame work for running neural network applications. It runs tensorflow at the backend.  \n",
    "Below I practiced applying fully connected neural network in Keras and directly in Tensowflow using relatively small network.  \n",
    "This Diabetes dataset is small for neural network applications and to get a better accuracy. \n",
    "I believe the **ensemble model** above is better approach for this dataset."
   ]
  },
  {
   "cell_type": "code",
   "execution_count": 37,
   "metadata": {
    "_cell_guid": "11a2ecec-f3c0-4ec2-89a7-2351eff14ff4",
    "_uuid": "90f099b99a3e546fe2a8590465ca4a84c797dec8"
   },
   "outputs": [],
   "source": [
    "from sklearn.model_selection import train_test_split\n",
    "from sklearn.metrics import confusion_matrix\n",
    "import itertools\n",
    "\n",
    "from keras.utils.np_utils import to_categorical # convert to one-hot-encoding\n",
    "from keras.models import Sequential\n",
    "from keras.layers import Dense, Dropout, Flatten, Conv2D, MaxPool2D\n",
    "from keras import optimizers\n",
    "from keras.preprocessing.image import ImageDataGenerator\n",
    "from keras.callbacks import ReduceLROnPlateau\n",
    "\n",
    "# fix random seed for reproducibility\n",
    "np.random.seed(2)"
   ]
  },
  {
   "cell_type": "code",
   "execution_count": 38,
   "metadata": {
    "_cell_guid": "26e88ade-5f98-4741-9cb8-39c3ef4486b1",
    "_uuid": "92fba36d5b654ae0dcadbfbcc6e9523f19a5fb8c",
    "collapsed": true,
    "jupyter": {
     "outputs_hidden": true
    }
   },
   "outputs": [],
   "source": [
    "train_Y = to_categorical(train_Y, num_classes = 2)\n",
    "test_Y = to_categorical(test_Y, num_classes = 2)"
   ]
  },
  {
   "cell_type": "code",
   "execution_count": 39,
   "metadata": {
    "_cell_guid": "9c764844-cf7e-4e5b-a5c0-e0670225d655",
    "_uuid": "b40130059d406fb267651c50fd427cee928ab82b"
   },
   "outputs": [],
   "source": [
    "# Confirm the train-test split ratio\n",
    "print(np.shape(train_X))\n",
    "print(np.shape(train_Y))\n",
    "print(np.shape(test_X))\n",
    "print(np.shape(test_Y))"
   ]
  },
  {
   "cell_type": "markdown",
   "metadata": {
    "_cell_guid": "d17c38ad-5aba-4387-9e8c-6b78798de22e",
    "_uuid": "f0aff0a24fb0cc5fe2cc9182dbf38dcc867b34cb"
   },
   "source": [
    "### 1. Create the model using Keras\n",
    "\n",
    "input_dim = 8 since we have 8 input variable.  \n",
    "Here we are using 5 fully connected layers defined by using the Dense class (no particular reason for 5 layers, typically more layers are better). \n",
    "Number of neurons in the layers are the first argument (8, 12, 12, 8, 4 & 1 respecitvely here).  \n",
    "We use the default weight initialization in Keras which is between 0 to 0.05 assuming \"uniform\" distribution.  \n",
    "First 4 layers have \"relu\" activation and output layer has \"sigmoid\" activation. Sigmoid on the output layer ensures that we have output between 0  and 1.  \n",
    "\n",
    "We can piece it all together by adding each layer."
   ]
  },
  {
   "cell_type": "code",
   "execution_count": 40,
   "metadata": {
    "_cell_guid": "0b8b387e-34c6-4806-90de-efb7baa47769",
    "_uuid": "b36a717eeb3629ece263ce03e4c89b8075960dcd",
    "collapsed": true,
    "jupyter": {
     "outputs_hidden": true
    }
   },
   "outputs": [],
   "source": [
    "model = Sequential()\n",
    "model.add(Dense(8, input_dim=8, activation='relu'))\n",
    "model.add(Dense(12, input_dim=8, activation='relu'))\n",
    "model.add(Dense(12, input_dim=8, activation='relu'))\n",
    "model.add(Dense(8, activation='relu'))\n",
    "model.add(Dense(4, activation='relu'))\n",
    "model.add(Dense(2, activation='sigmoid'))"
   ]
  },
  {
   "cell_type": "markdown",
   "metadata": {
    "_cell_guid": "70d0b072-bf0d-407c-a011-6c2fde45bd15",
    "_uuid": "a36d400e58cd65969c6083b46d98a60a1bedba95"
   },
   "source": [
    "### 2. Compile the model\n",
    "\n",
    "\n",
    "Now the model is ready, we can compile it (using tensorflow under the hood or backend) and train it find the best weights for prediction. \n",
    "loss='binary_crossentropy' since the problem is binary classification.  \n",
    "optimizer='adam' since it is efficient and default default.  \n",
    "From metrics we collect the accuracy."
   ]
  },
  {
   "cell_type": "code",
   "execution_count": 41,
   "metadata": {
    "_cell_guid": "bf1e3ba4-f745-46cd-9c85-bc0b2ed5730a",
    "_uuid": "8050900717f0f0e8bcec0a1b830dee7a5d87cbfc",
    "collapsed": true,
    "jupyter": {
     "outputs_hidden": true
    }
   },
   "outputs": [],
   "source": [
    "model.compile(loss='binary_crossentropy', optimizer='adam', metrics=['accuracy'])"
   ]
  },
  {
   "cell_type": "markdown",
   "metadata": {
    "_cell_guid": "38a378be-4943-427f-9788-14f40d435185",
    "_uuid": "1ed341dce5e1056f45a89baf43a573b14a8e7bd1"
   },
   "source": [
    "### 3. Fit model\n",
    "\n",
    "We train the model by calling fit() on training data.  \n",
    "The number of iteration through the whole training datset is called \"epoch\". It is set to 150 (higher the better).  \n",
    "The number of instances that are evaluated before a weight update in the network is performed is the the batch size. It is set to 50 (relatively small, the dataset is also small).  \n",
    "\n",
    "With the model.fit(), we shall also capture the accuracy each epoch."
   ]
  },
  {
   "cell_type": "code",
   "execution_count": 42,
   "metadata": {
    "_cell_guid": "941ef35e-6ed9-4b8b-8887-31d8e8df3354",
    "_uuid": "72189a87c5b27d08cee59b893028194ee2ff848b"
   },
   "outputs": [],
   "source": [
    "epoch = 150\n",
    "batch_size = 50\n",
    "\n",
    "history = model.fit(train_X, train_Y, batch_size = batch_size, epochs = epoch, \n",
    "          validation_data = (test_X, test_Y), verbose = 2)"
   ]
  },
  {
   "cell_type": "markdown",
   "metadata": {
    "_cell_guid": "76a6fec4-22fe-4114-9089-b1d3efe1e7cb",
    "_uuid": "eb7f9f727b8594806dcf9ee9a8765c7bfc0a4b53"
   },
   "source": [
    "We see that the model accuracy hovers around 78% in the testing data which is not better than ensemble model (accuracy may change slightly run-to-run). We can try larger network inclear number of epochs however, very likely this is the maximum prediction or performance of the model based on the dataset. We may also end of overfitting the training dataset. Again, note that the dataset is relatively small for neural network. "
   ]
  },
  {
   "cell_type": "markdown",
   "metadata": {
    "_cell_guid": "97dcf889-c36b-40f9-b2df-74094186adf5",
    "_uuid": "e6000b536a0db34ff19deec06bef18bf292dc966"
   },
   "source": [
    "### 4 Evaluate model\n",
    "\n",
    "We evaluate the model on test dataset and obtain the score and accuracy.  \n",
    "Score is the evaluation of the loss function for a given input."
   ]
  },
  {
   "cell_type": "code",
   "execution_count": 43,
   "metadata": {
    "_cell_guid": "20f8f785-351b-4849-b338-dd3eec4e8749",
    "_uuid": "221f11f80ad2a761598d0fa6781bf52e137a10bc"
   },
   "outputs": [],
   "source": [
    "score, acc = model.evaluate(test_X, test_Y)\n",
    "print('Test score:', score)\n",
    "print('Test accuracy:', acc)"
   ]
  },
  {
   "cell_type": "markdown",
   "metadata": {
    "_cell_guid": "b299a0ad-9f64-4121-8f38-101cdf535ee4",
    "_uuid": "730c9ca720ad262d6b7f001cdd00da253d9871dd"
   },
   "source": [
    "So we get 77.86% accuracy on the test dataset with this fully connected neural network (varies little bit run to run).  \n",
    "This is **comparable and not significantly better than ensemble method** done earlier.  \n",
    "NN acccuracy expected to improve with larger amount of training data.\n",
    "\n",
    "### Training and validation curves vs. epoch"
   ]
  },
  {
   "cell_type": "code",
   "execution_count": 44,
   "metadata": {
    "_cell_guid": "b6b535d9-7f23-4542-a1f2-c447e8a988eb",
    "_uuid": "f6dbf3262cd59f06579b413e3883aae74a5c1fed"
   },
   "outputs": [],
   "source": [
    "# Plot the loss and accuracy curves for training and validation vs. epochs\n",
    "\n",
    "fig, ax = plt.subplots(2,1)\n",
    "ax[0].plot(history.history['loss'], color='b', label=\"Training loss\")\n",
    "ax[0].plot(history.history['val_loss'], color='r', label=\"Testing loss\",axes =ax[0])\n",
    "legend = ax[0].legend(loc='best', shadow=True)\n",
    "\n",
    "ax[1].plot(history.history['acc'], color='b', label=\"Training accuracy\")\n",
    "ax[1].plot(history.history['val_acc'], color='r',label=\"Testing accuracy\")\n",
    "legend = ax[1].legend(loc='best', shadow=True)\n",
    "\n",
    "plt.show()"
   ]
  },
  {
   "cell_type": "markdown",
   "metadata": {
    "_cell_guid": "e03fec4d-f15f-4dc9-a597-cd995e2a7fe6",
    "_uuid": "3bd86fb20076dc167abb948fb6e1f11ad33108e9"
   },
   "source": [
    "After about 85 epochs, testing loss starts to  become higher than training loss and exactly opposite for accuracy: testing accuracy starts to get lower than training accuracy. Basically we are starting to overfit here.  \n",
    "Therefore, we get an optimal accuracy of close to 80% using this model.\n",
    "\n",
    "### Confusion matrix using this model\n",
    "\n",
    "Let us have a look at the correct and misclasssification in the confusion matrix.  \n",
    "I am using the below function for confusion matrix.\n"
   ]
  },
  {
   "cell_type": "code",
   "execution_count": 45,
   "metadata": {
    "_cell_guid": "57e1992d-c45d-411c-b590-2abbe6556905",
    "_uuid": "9eca7d0c668e5f4fc74bb1c33b3030ec43372163"
   },
   "outputs": [],
   "source": [
    "# Predict the values from the validation dataset\n",
    "Y_pred = model.predict(test_X)\n",
    "# Convert predictions classes to one hot vectors \n",
    "Y_pred_classes = np.argmax(Y_pred,axis = 1) \n",
    "# Convert validation observations to one hot vectors\n",
    "Y_true = np.argmax(test_Y,axis = 1) \n",
    "# compute the confusion matrix\n",
    "confusion_mtx = confusion_matrix(Y_true, Y_pred_classes) \n",
    "# plot the confusion matrix\n",
    "plot_confusion_matrix(confusion_mtx, classes = range(2))\n",
    "\n",
    "plt.show()"
   ]
  },
  {
   "cell_type": "code",
   "execution_count": 46,
   "metadata": {
    "_cell_guid": "f03b242c-77e5-40b6-845c-2e9afb84252a",
    "_uuid": "d91a2b6f52bbe5549c13b790f6573e1d33fcb5d6"
   },
   "outputs": [],
   "source": [
    "print(metrics.classification_report(Y_true, Y_pred_classes))"
   ]
  },
  {
   "cell_type": "markdown",
   "metadata": {
    "_cell_guid": "ee22a400-c2c5-4269-ad21-8f21945c2344",
    "_uuid": "8b76fe2bb3f655f5f20691919c1fad886a781637"
   },
   "source": [
    "This NN model is able to predict diabetes on 66% of actuall diabetes classes which is better than the ensamble model."
   ]
  },
  {
   "cell_type": "markdown",
   "metadata": {
    "_cell_guid": "99a0dd69-c072-4090-a977-86b474bc6cfb",
    "_uuid": "a542c6d5d7e204fba49b8f58f72e32776adad6b1"
   },
   "source": [
    "## t-SNE plot\n"
   ]
  },
  {
   "cell_type": "code",
   "execution_count": 47,
   "metadata": {
    "_cell_guid": "4185b1a3-e740-457c-8ef9-9caf709a3afd",
    "_uuid": "df35506af08b508f8b40e449f0c424ccfb24fb7b",
    "collapsed": true,
    "jupyter": {
     "outputs_hidden": true
    }
   },
   "outputs": [],
   "source": [
    "df_std = StandardScaler().fit_transform(diab)\n",
    "y = diab.iloc[:,-1].values"
   ]
  },
  {
   "cell_type": "code",
   "execution_count": 50,
   "metadata": {
    "_cell_guid": "fd1859e0-d4e4-46c7-b2ae-5f172ab4ceeb",
    "_uuid": "e59809bfb4c8e0839190dda9d31685bdb2699ac1",
    "collapsed": true,
    "jupyter": {
     "outputs_hidden": true
    }
   },
   "outputs": [],
   "source": [
    "from sklearn.manifold import TSNE\n",
    "\n",
    "tsne = TSNE(n_components=2, random_state=0)\n",
    "x_t = tsne.fit_transform(df_std)"
   ]
  },
  {
   "cell_type": "code",
   "execution_count": 51,
   "metadata": {
    "_cell_guid": "5183bac3-0e6b-431d-99d5-b9ef699207f8",
    "_uuid": "e984b746405d592a33be70ec50f9a5661870aa66"
   },
   "outputs": [],
   "source": [
    "color_map = {0:'red', 1:'blue'}\n",
    "plt.figure()\n",
    "plt.figure()\n",
    "plt.scatter(x_t[np.where(y == 0), 0], x_t[np.where(y == 0), 1], marker='x', color='g', \n",
    "            linewidth='1', alpha=0.8, label='No diabetes')\n",
    "plt.scatter(x_t[np.where(y == 1), 0], x_t[np.where(y == 1), 1], marker='v', color='r',\n",
    "            linewidth='1', alpha=0.8, label='Diabetes')\n",
    "\n",
    "plt.xlabel('X in t-SNE')\n",
    "plt.ylabel('Y in t-SNE')\n",
    "plt.legend(loc='upper left')\n",
    "plt.title('t-SNE visualization of diabetes data')\n",
    "plt.show()"
   ]
  },
  {
   "cell_type": "markdown",
   "metadata": {
    "_cell_guid": "94bb775c-ad63-43ec-b9e6-d6a200c6d773",
    "_uuid": "175c84dca468e756558906ee147d7a1ffce139ff"
   },
   "source": [
    "We see that diabetes (1) and non-diabetic (0) are well separated in tSNE plot of the dataset.\n",
    "\n",
    "### Conclusion\n",
    "\n",
    "* Close to 80% overall accuracy is obtained based on this dataset to predict diabetes in a person using ensemble model among different methods evalauted as well as NN model.  \n",
    "* Non diabetes cases are predicted more accurately than diabetes cases.  \n",
    "* NN model gave better prediction of diabetes cases than ensamble model (66% vs. 54%).\n",
    "* Based on Random Forest feature importance, Glucose, BMI, Age and diabetes pedigree are top causes for diabetes. \n",
    "* Based on parameter correlation, no given single parameter can predict diabetes. \n",
    "* More data, feature engineering and larger NN model is expected to improve diabetes prediction accuracy.\n",
    "\n",
    "** With help from several Kaggle notebooks.**"
   ]
  }
 ],
 "metadata": {
  "kernelspec": {
   "display_name": "Python 3",
   "language": "python",
   "name": "python3"
  },
  "language_info": {
   "codemirror_mode": {
    "name": "ipython",
    "version": 3
   },
   "file_extension": ".py",
   "mimetype": "text/x-python",
   "name": "python",
   "nbconvert_exporter": "python",
   "pygments_lexer": "ipython3",
   "version": "3.7.4"
  }
 },
 "nbformat": 4,
 "nbformat_minor": 4
}
