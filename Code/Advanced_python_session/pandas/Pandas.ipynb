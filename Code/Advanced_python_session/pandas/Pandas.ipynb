{
 "cells": [
  {
   "cell_type": "markdown",
   "metadata": {},
   "source": [
    "# Pandas"
   ]
  },
  {
   "cell_type": "code",
   "execution_count": 1,
   "metadata": {},
   "outputs": [],
   "source": [
    "import pandas as pd"
   ]
  },
  {
   "cell_type": "markdown",
   "metadata": {},
   "source": [
    "## Reading market data for SNAP"
   ]
  },
  {
   "cell_type": "code",
   "execution_count": 3,
   "metadata": {},
   "outputs": [
    {
     "data": {
      "text/html": [
       "<div>\n",
       "<style scoped>\n",
       "    .dataframe tbody tr th:only-of-type {\n",
       "        vertical-align: middle;\n",
       "    }\n",
       "\n",
       "    .dataframe tbody tr th {\n",
       "        vertical-align: top;\n",
       "    }\n",
       "\n",
       "    .dataframe thead th {\n",
       "        text-align: right;\n",
       "    }\n",
       "</style>\n",
       "<table border=\"1\" class=\"dataframe\">\n",
       "  <thead>\n",
       "    <tr style=\"text-align: right;\">\n",
       "      <th></th>\n",
       "      <th>Date</th>\n",
       "      <th>Open</th>\n",
       "      <th>High</th>\n",
       "      <th>Low</th>\n",
       "      <th>Close</th>\n",
       "      <th>Adj Close</th>\n",
       "      <th>Volume</th>\n",
       "    </tr>\n",
       "  </thead>\n",
       "  <tbody>\n",
       "    <tr>\n",
       "      <td>0</td>\n",
       "      <td>Aug 20 2018</td>\n",
       "      <td>11.80</td>\n",
       "      <td>11.86</td>\n",
       "      <td>11.57</td>\n",
       "      <td>11.73</td>\n",
       "      <td>11.73</td>\n",
       "      <td>13977800</td>\n",
       "    </tr>\n",
       "    <tr>\n",
       "      <td>1</td>\n",
       "      <td>Aug 17 2018</td>\n",
       "      <td>12.16</td>\n",
       "      <td>12.17</td>\n",
       "      <td>11.63</td>\n",
       "      <td>11.89</td>\n",
       "      <td>11.89</td>\n",
       "      <td>22444600</td>\n",
       "    </tr>\n",
       "    <tr>\n",
       "      <td>2</td>\n",
       "      <td>Aug 16 2018</td>\n",
       "      <td>12.30</td>\n",
       "      <td>12.58</td>\n",
       "      <td>12.10</td>\n",
       "      <td>12.17</td>\n",
       "      <td>12.17</td>\n",
       "      <td>14652900</td>\n",
       "    </tr>\n",
       "  </tbody>\n",
       "</table>\n",
       "</div>"
      ],
      "text/plain": [
       "          Date   Open   High    Low  Close  Adj Close    Volume\n",
       "0  Aug 20 2018  11.80  11.86  11.57  11.73      11.73  13977800\n",
       "1  Aug 17 2018  12.16  12.17  11.63  11.89      11.89  22444600\n",
       "2  Aug 16 2018  12.30  12.58  12.10  12.17      12.17  14652900"
      ]
     },
     "execution_count": 3,
     "metadata": {},
     "output_type": "execute_result"
    }
   ],
   "source": [
    "data = pd.read_csv(\"snap.csv\")\n",
    "data.head(3)"
   ]
  },
  {
   "cell_type": "code",
   "execution_count": 5,
   "metadata": {},
   "outputs": [
    {
     "name": "stdout",
     "output_type": "stream",
     "text": [
      "Date          object\n",
      "Open         float64\n",
      "High         float64\n",
      "Low          float64\n",
      "Close        float64\n",
      "Adj Close    float64\n",
      "Volume         int64\n",
      "dtype: object\n"
     ]
    }
   ],
   "source": [
    "print(data.dtypes)"
   ]
  },
  {
   "cell_type": "code",
   "execution_count": 6,
   "metadata": {},
   "outputs": [
    {
     "data": {
      "text/html": [
       "<div>\n",
       "<style scoped>\n",
       "    .dataframe tbody tr th:only-of-type {\n",
       "        vertical-align: middle;\n",
       "    }\n",
       "\n",
       "    .dataframe tbody tr th {\n",
       "        vertical-align: top;\n",
       "    }\n",
       "\n",
       "    .dataframe thead th {\n",
       "        text-align: right;\n",
       "    }\n",
       "</style>\n",
       "<table border=\"1\" class=\"dataframe\">\n",
       "  <thead>\n",
       "    <tr style=\"text-align: right;\">\n",
       "      <th></th>\n",
       "      <th>Open</th>\n",
       "      <th>High</th>\n",
       "      <th>Low</th>\n",
       "      <th>Close</th>\n",
       "      <th>Adj Close</th>\n",
       "      <th>Volume</th>\n",
       "    </tr>\n",
       "  </thead>\n",
       "  <tbody>\n",
       "    <tr>\n",
       "      <td>count</td>\n",
       "      <td>100.000000</td>\n",
       "      <td>100.000000</td>\n",
       "      <td>100.000000</td>\n",
       "      <td>100.000000</td>\n",
       "      <td>100.000000</td>\n",
       "      <td>1.000000e+02</td>\n",
       "    </tr>\n",
       "    <tr>\n",
       "      <td>mean</td>\n",
       "      <td>12.951100</td>\n",
       "      <td>13.203800</td>\n",
       "      <td>12.680800</td>\n",
       "      <td>12.928400</td>\n",
       "      <td>12.928400</td>\n",
       "      <td>2.444593e+07</td>\n",
       "    </tr>\n",
       "    <tr>\n",
       "      <td>std</td>\n",
       "      <td>1.429399</td>\n",
       "      <td>1.447525</td>\n",
       "      <td>1.339162</td>\n",
       "      <td>1.380316</td>\n",
       "      <td>1.380316</td>\n",
       "      <td>1.902549e+07</td>\n",
       "    </tr>\n",
       "    <tr>\n",
       "      <td>min</td>\n",
       "      <td>10.560000</td>\n",
       "      <td>10.680000</td>\n",
       "      <td>10.500000</td>\n",
       "      <td>10.550000</td>\n",
       "      <td>10.550000</td>\n",
       "      <td>8.219500e+06</td>\n",
       "    </tr>\n",
       "    <tr>\n",
       "      <td>25%</td>\n",
       "      <td>12.147500</td>\n",
       "      <td>12.375000</td>\n",
       "      <td>11.925000</td>\n",
       "      <td>12.177500</td>\n",
       "      <td>12.177500</td>\n",
       "      <td>1.372595e+07</td>\n",
       "    </tr>\n",
       "    <tr>\n",
       "      <td>50%</td>\n",
       "      <td>13.085000</td>\n",
       "      <td>13.360000</td>\n",
       "      <td>12.875000</td>\n",
       "      <td>13.135000</td>\n",
       "      <td>13.135000</td>\n",
       "      <td>1.875875e+07</td>\n",
       "    </tr>\n",
       "    <tr>\n",
       "      <td>75%</td>\n",
       "      <td>13.712500</td>\n",
       "      <td>14.147500</td>\n",
       "      <td>13.622500</td>\n",
       "      <td>13.907500</td>\n",
       "      <td>13.907500</td>\n",
       "      <td>2.871392e+07</td>\n",
       "    </tr>\n",
       "    <tr>\n",
       "      <td>max</td>\n",
       "      <td>15.940000</td>\n",
       "      <td>16.120000</td>\n",
       "      <td>15.650000</td>\n",
       "      <td>15.870000</td>\n",
       "      <td>15.870000</td>\n",
       "      <td>1.592094e+08</td>\n",
       "    </tr>\n",
       "  </tbody>\n",
       "</table>\n",
       "</div>"
      ],
      "text/plain": [
       "             Open        High         Low       Close   Adj Close  \\\n",
       "count  100.000000  100.000000  100.000000  100.000000  100.000000   \n",
       "mean    12.951100   13.203800   12.680800   12.928400   12.928400   \n",
       "std      1.429399    1.447525    1.339162    1.380316    1.380316   \n",
       "min     10.560000   10.680000   10.500000   10.550000   10.550000   \n",
       "25%     12.147500   12.375000   11.925000   12.177500   12.177500   \n",
       "50%     13.085000   13.360000   12.875000   13.135000   13.135000   \n",
       "75%     13.712500   14.147500   13.622500   13.907500   13.907500   \n",
       "max     15.940000   16.120000   15.650000   15.870000   15.870000   \n",
       "\n",
       "             Volume  \n",
       "count  1.000000e+02  \n",
       "mean   2.444593e+07  \n",
       "std    1.902549e+07  \n",
       "min    8.219500e+06  \n",
       "25%    1.372595e+07  \n",
       "50%    1.875875e+07  \n",
       "75%    2.871392e+07  \n",
       "max    1.592094e+08  "
      ]
     },
     "execution_count": 6,
     "metadata": {},
     "output_type": "execute_result"
    }
   ],
   "source": [
    "data.describe()"
   ]
  },
  {
   "cell_type": "code",
   "execution_count": 7,
   "metadata": {},
   "outputs": [],
   "source": [
    "import numpy as np\n",
    "data = data.replace(r'-', np.nan, regex=True)\n",
    "data[\"Low\"] = pd.to_numeric(data[\"Low\"])\n",
    "data[\"Open\"] = pd.to_numeric(data[\"Open\"])"
   ]
  },
  {
   "cell_type": "code",
   "execution_count": 8,
   "metadata": {},
   "outputs": [],
   "source": [
    "data = data.dropna()"
   ]
  },
  {
   "cell_type": "code",
   "execution_count": 9,
   "metadata": {},
   "outputs": [
    {
     "data": {
      "text/html": [
       "<div>\n",
       "<style scoped>\n",
       "    .dataframe tbody tr th:only-of-type {\n",
       "        vertical-align: middle;\n",
       "    }\n",
       "\n",
       "    .dataframe tbody tr th {\n",
       "        vertical-align: top;\n",
       "    }\n",
       "\n",
       "    .dataframe thead th {\n",
       "        text-align: right;\n",
       "    }\n",
       "</style>\n",
       "<table border=\"1\" class=\"dataframe\">\n",
       "  <thead>\n",
       "    <tr style=\"text-align: right;\">\n",
       "      <th></th>\n",
       "      <th>Open</th>\n",
       "      <th>High</th>\n",
       "      <th>Low</th>\n",
       "      <th>Close</th>\n",
       "      <th>Adj Close</th>\n",
       "      <th>Volume</th>\n",
       "    </tr>\n",
       "  </thead>\n",
       "  <tbody>\n",
       "    <tr>\n",
       "      <td>count</td>\n",
       "      <td>100.000000</td>\n",
       "      <td>100.000000</td>\n",
       "      <td>100.000000</td>\n",
       "      <td>100.000000</td>\n",
       "      <td>100.000000</td>\n",
       "      <td>1.000000e+02</td>\n",
       "    </tr>\n",
       "    <tr>\n",
       "      <td>mean</td>\n",
       "      <td>12.951100</td>\n",
       "      <td>13.203800</td>\n",
       "      <td>12.680800</td>\n",
       "      <td>12.928400</td>\n",
       "      <td>12.928400</td>\n",
       "      <td>2.444593e+07</td>\n",
       "    </tr>\n",
       "    <tr>\n",
       "      <td>std</td>\n",
       "      <td>1.429399</td>\n",
       "      <td>1.447525</td>\n",
       "      <td>1.339162</td>\n",
       "      <td>1.380316</td>\n",
       "      <td>1.380316</td>\n",
       "      <td>1.902549e+07</td>\n",
       "    </tr>\n",
       "    <tr>\n",
       "      <td>min</td>\n",
       "      <td>10.560000</td>\n",
       "      <td>10.680000</td>\n",
       "      <td>10.500000</td>\n",
       "      <td>10.550000</td>\n",
       "      <td>10.550000</td>\n",
       "      <td>8.219500e+06</td>\n",
       "    </tr>\n",
       "    <tr>\n",
       "      <td>25%</td>\n",
       "      <td>12.147500</td>\n",
       "      <td>12.375000</td>\n",
       "      <td>11.925000</td>\n",
       "      <td>12.177500</td>\n",
       "      <td>12.177500</td>\n",
       "      <td>1.372595e+07</td>\n",
       "    </tr>\n",
       "    <tr>\n",
       "      <td>50%</td>\n",
       "      <td>13.085000</td>\n",
       "      <td>13.360000</td>\n",
       "      <td>12.875000</td>\n",
       "      <td>13.135000</td>\n",
       "      <td>13.135000</td>\n",
       "      <td>1.875875e+07</td>\n",
       "    </tr>\n",
       "    <tr>\n",
       "      <td>75%</td>\n",
       "      <td>13.712500</td>\n",
       "      <td>14.147500</td>\n",
       "      <td>13.622500</td>\n",
       "      <td>13.907500</td>\n",
       "      <td>13.907500</td>\n",
       "      <td>2.871392e+07</td>\n",
       "    </tr>\n",
       "    <tr>\n",
       "      <td>max</td>\n",
       "      <td>15.940000</td>\n",
       "      <td>16.120000</td>\n",
       "      <td>15.650000</td>\n",
       "      <td>15.870000</td>\n",
       "      <td>15.870000</td>\n",
       "      <td>1.592094e+08</td>\n",
       "    </tr>\n",
       "  </tbody>\n",
       "</table>\n",
       "</div>"
      ],
      "text/plain": [
       "             Open        High         Low       Close   Adj Close  \\\n",
       "count  100.000000  100.000000  100.000000  100.000000  100.000000   \n",
       "mean    12.951100   13.203800   12.680800   12.928400   12.928400   \n",
       "std      1.429399    1.447525    1.339162    1.380316    1.380316   \n",
       "min     10.560000   10.680000   10.500000   10.550000   10.550000   \n",
       "25%     12.147500   12.375000   11.925000   12.177500   12.177500   \n",
       "50%     13.085000   13.360000   12.875000   13.135000   13.135000   \n",
       "75%     13.712500   14.147500   13.622500   13.907500   13.907500   \n",
       "max     15.940000   16.120000   15.650000   15.870000   15.870000   \n",
       "\n",
       "             Volume  \n",
       "count  1.000000e+02  \n",
       "mean   2.444593e+07  \n",
       "std    1.902549e+07  \n",
       "min    8.219500e+06  \n",
       "25%    1.372595e+07  \n",
       "50%    1.875875e+07  \n",
       "75%    2.871392e+07  \n",
       "max    1.592094e+08  "
      ]
     },
     "execution_count": 9,
     "metadata": {},
     "output_type": "execute_result"
    }
   ],
   "source": [
    "data.describe()"
   ]
  },
  {
   "cell_type": "code",
   "execution_count": 10,
   "metadata": {},
   "outputs": [],
   "source": [
    "%matplotlib inline\n",
    "import matplotlib.pyplot as plt\n"
   ]
  },
  {
   "cell_type": "code",
   "execution_count": 11,
   "metadata": {},
   "outputs": [
    {
     "data": {
      "text/plain": [
       "<matplotlib.legend.Legend at 0x7f83deaba090>"
      ]
     },
     "execution_count": 11,
     "metadata": {},
     "output_type": "execute_result"
    },
    {
     "data": {
      "image/png": "[encoded data removed]",
      "text/plain": [
       "<Figure size 432x288 with 1 Axes>"
      ]
     },
     "metadata": {
      "needs_background": "light"
     },
     "output_type": "display_data"
    }
   ],
   "source": [
    "plt.figure()\n",
    "data.Open.plot()\n",
    "data.Close.plot()\n",
    "plt.title(\"SNAP prices\")\n",
    "plt.legend(loc='lower right')"
   ]
  },
  {
   "cell_type": "code",
   "execution_count": 12,
   "metadata": {},
   "outputs": [
    {
     "data": {
      "text/plain": [
       "<matplotlib.legend.Legend at 0x7f83b13ea8d0>"
      ]
     },
     "execution_count": 12,
     "metadata": {},
     "output_type": "execute_result"
    },
    {
     "data": {
      "image/png": "[encoded data removed]",
      "text/plain": [
       "<Figure size 432x288 with 1 Axes>"
      ]
     },
     "metadata": {
      "needs_background": "light"
     },
     "output_type": "display_data"
    }
   ],
   "source": [
    "\n",
    "data.High.plot()\n",
    "data.Low.plot()\n",
    "plt.title(\"SNAP prices\")\n",
    "plt.legend(loc='lower right')"
   ]
  },
  {
   "cell_type": "code",
   "execution_count": 13,
   "metadata": {},
   "outputs": [
    {
     "data": {
      "text/plain": [
       "[]"
      ]
     },
     "execution_count": 13,
     "metadata": {},
     "output_type": "execute_result"
    },
    {
     "data": {
      "image/png": "[encoded data removed]",
      "text/plain": [
       "<Figure size 432x288 with 1 Axes>"
      ]
     },
     "metadata": {
      "needs_background": "light"
     },
     "output_type": "display_data"
    }
   ],
   "source": [
    "plt.figure()\n",
    "g = data.Volume.plot.bar()\n",
    "plt.title(\"SNAP prices\")\n",
    "plt.legend(loc='upper right')\n",
    "\n",
    "g.set_xticklabels([])"
   ]
  },
  {
   "cell_type": "markdown",
   "metadata": {},
   "source": [
    "### How many data points per month"
   ]
  },
  {
   "cell_type": "code",
   "execution_count": 14,
   "metadata": {},
   "outputs": [
    {
     "ename": "AttributeError",
     "evalue": "module 'pandas' has no attribute 'TimeGrouper'",
     "output_type": "error",
     "traceback": [
      "\u001b[0;31m---------------------------------------------------------------------------\u001b[0m",
      "\u001b[0;31mAttributeError\u001b[0m                            Traceback (most recent call last)",
      "\u001b[0;32m<ipython-input-14-2ee71148aef7>\u001b[0m in \u001b[0;36m<module>\u001b[0;34m\u001b[0m\n\u001b[0;32m----> 1\u001b[0;31m \u001b[0mdata\u001b[0m\u001b[0;34m.\u001b[0m\u001b[0mgroupby\u001b[0m\u001b[0;34m(\u001b[0m\u001b[0mpd\u001b[0m\u001b[0;34m.\u001b[0m\u001b[0mTimeGrouper\u001b[0m\u001b[0;34m(\u001b[0m\u001b[0mfreq\u001b[0m\u001b[0;34m=\u001b[0m\u001b[0;34m'M'\u001b[0m\u001b[0;34m)\u001b[0m\u001b[0;34m)\u001b[0m\u001b[0;34m.\u001b[0m\u001b[0mcount\u001b[0m\u001b[0;34m(\u001b[0m\u001b[0;34m)\u001b[0m\u001b[0;34m\u001b[0m\u001b[0;34m\u001b[0m\u001b[0m\n\u001b[0m",
      "\u001b[0;32m~/bin/anaconda3/lib/python3.7/site-packages/pandas/__init__.py\u001b[0m in \u001b[0;36m__getattr__\u001b[0;34m(name)\u001b[0m\n\u001b[1;32m    212\u001b[0m \u001b[0;34m\u001b[0m\u001b[0m\n\u001b[1;32m    213\u001b[0m             \u001b[0;32mreturn\u001b[0m \u001b[0mPanel\u001b[0m\u001b[0;34m\u001b[0m\u001b[0;34m\u001b[0m\u001b[0m\n\u001b[0;32m--> 214\u001b[0;31m         \u001b[0;32mraise\u001b[0m \u001b[0mAttributeError\u001b[0m\u001b[0;34m(\u001b[0m\u001b[0;34m\"module 'pandas' has no attribute '{}'\"\u001b[0m\u001b[0;34m.\u001b[0m\u001b[0mformat\u001b[0m\u001b[0;34m(\u001b[0m\u001b[0mname\u001b[0m\u001b[0;34m)\u001b[0m\u001b[0;34m)\u001b[0m\u001b[0;34m\u001b[0m\u001b[0;34m\u001b[0m\u001b[0m\n\u001b[0m\u001b[1;32m    215\u001b[0m \u001b[0;34m\u001b[0m\u001b[0m\n\u001b[1;32m    216\u001b[0m \u001b[0;34m\u001b[0m\u001b[0m\n",
      "\u001b[0;31mAttributeError\u001b[0m: module 'pandas' has no attribute 'TimeGrouper'"
     ]
    }
   ],
   "source": [
    "data.groupby(pd.TimeGrouper(freq='M')).count()"
   ]
  },
  {
   "cell_type": "code",
   "execution_count": null,
   "metadata": {},
   "outputs": [],
   "source": [
    "weekly = data.resample('W').mean()\n",
    "weekly"
   ]
  },
  {
   "cell_type": "code",
   "execution_count": null,
   "metadata": {},
   "outputs": [],
   "source": [
    "weekly.Open.plot()\n",
    "plt.title(\"SNAP prices\")\n",
    "plt.legend(loc='upper center')"
   ]
  },
  {
   "cell_type": "code",
   "execution_count": null,
   "metadata": {},
   "outputs": [],
   "source": [
    "weekly.Volume.plot()\n",
    "plt.title(\"SNAP prices\")\n",
    "plt.legend(loc='lower center')"
   ]
  },
  {
   "cell_type": "code",
   "execution_count": null,
   "metadata": {},
   "outputs": [],
   "source": [
    "data.Open.rolling(window=5,center=False).mean().plot()\n",
    "data.Open.plot()\n",
    "plt.legend(['rolling mean', 'original'], loc='upper center')"
   ]
  },
  {
   "cell_type": "markdown",
   "metadata": {},
   "source": [
    "### Growth of a stock"
   ]
  },
  {
   "cell_type": "code",
   "execution_count": null,
   "metadata": {},
   "outputs": [],
   "source": [
    "data = data.sort_index(ascending=True)\n",
    "print data.head(3)\n",
    "stock_change = data.apply(lambda x: np.log(x) - np.log(x.shift(1)))\n",
    "print stock_change.head(3)\n",
    "stock_change.Close.plot(grid = True).axhline(y = 0, color = \"black\", lw = 2)"
   ]
  }
 ],
 "metadata": {
  "kernelspec": {
   "display_name": "Python 3",
   "language": "python",
   "name": "python3"
  },
  "language_info": {
   "codemirror_mode": {
    "name": "ipython",
    "version": 3
   },
   "file_extension": ".py",
   "mimetype": "text/x-python",
   "name": "python",
   "nbconvert_exporter": "python",
   "pygments_lexer": "ipython3",
   "version": "3.7.4"
  }
 },
 "nbformat": 4,
 "nbformat_minor": 4
}
